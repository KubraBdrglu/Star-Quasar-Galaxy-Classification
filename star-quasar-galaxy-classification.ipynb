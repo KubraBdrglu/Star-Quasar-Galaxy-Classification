{
 "cells": [
  {
   "cell_type": "markdown",
   "id": "515bd491",
   "metadata": {
    "papermill": {
     "duration": 0.020064,
     "end_time": "2023-01-18T17:15:55.702563",
     "exception": false,
     "start_time": "2023-01-18T17:15:55.682499",
     "status": "completed"
    },
    "tags": []
   },
   "source": [
    "# Introduction"
   ]
  },
  {
   "cell_type": "code",
   "execution_count": 1,
   "id": "7a2615ec",
   "metadata": {
    "_cell_guid": "b1076dfc-b9ad-4769-8c92-a6c4dae69d19",
    "_uuid": "8f2839f25d086af736a60e9eeb907d3b93b6e0e5",
    "execution": {
     "iopub.execute_input": "2023-01-18T17:15:55.737412Z",
     "iopub.status.busy": "2023-01-18T17:15:55.736006Z",
     "iopub.status.idle": "2023-01-18T17:15:57.091545Z",
     "shell.execute_reply": "2023-01-18T17:15:57.089784Z"
    },
    "papermill": {
     "duration": 1.378935,
     "end_time": "2023-01-18T17:15:57.097311",
     "exception": false,
     "start_time": "2023-01-18T17:15:55.718376",
     "status": "completed"
    },
    "tags": []
   },
   "outputs": [
    {
     "name": "stdout",
     "output_type": "stream",
     "text": [
      "/kaggle/input/stellar-classification-dataset-sdss17/star_classification.csv\n"
     ]
    }
   ],
   "source": [
    "import numpy as np # linear algebra\n",
    "import pandas as pd # data processing, CSV file I/O (e.g. pd.read_csv)\n",
    "\n",
    "import matplotlib.pyplot as plt\n",
    "import seaborn as sb\n",
    "\n",
    "import os\n",
    "for dirname, _, filenames in os.walk('/kaggle/input'):\n",
    "    for filename in filenames:\n",
    "        print(os.path.join(dirname, filename))\n",
    "\n",
    "# You can write up to 20GB to the current directory (/kaggle/working/) that gets preserved as output when you create a version using \"Save & Run All\" \n",
    "# You can also write temporary files to /kaggle/temp/, but they won't be saved outside of the current session"
   ]
  },
  {
   "cell_type": "markdown",
   "id": "fa2c38cf",
   "metadata": {
    "papermill": {
     "duration": 0.01457,
     "end_time": "2023-01-18T17:15:57.127160",
     "exception": false,
     "start_time": "2023-01-18T17:15:57.112590",
     "status": "completed"
    },
    "tags": []
   },
   "source": [
    "# Load and Check Data"
   ]
  },
  {
   "cell_type": "code",
   "execution_count": 2,
   "id": "9311c7b0",
   "metadata": {
    "execution": {
     "iopub.execute_input": "2023-01-18T17:15:57.159253Z",
     "iopub.status.busy": "2023-01-18T17:15:57.158748Z",
     "iopub.status.idle": "2023-01-18T17:15:57.900014Z",
     "shell.execute_reply": "2023-01-18T17:15:57.898220Z"
    },
    "papermill": {
     "duration": 0.760986,
     "end_time": "2023-01-18T17:15:57.903641",
     "exception": false,
     "start_time": "2023-01-18T17:15:57.142655",
     "status": "completed"
    },
    "tags": []
   },
   "outputs": [
    {
     "data": {
      "text/html": [
       "<div>\n",
       "<style scoped>\n",
       "    .dataframe tbody tr th:only-of-type {\n",
       "        vertical-align: middle;\n",
       "    }\n",
       "\n",
       "    .dataframe tbody tr th {\n",
       "        vertical-align: top;\n",
       "    }\n",
       "\n",
       "    .dataframe thead th {\n",
       "        text-align: right;\n",
       "    }\n",
       "</style>\n",
       "<table border=\"1\" class=\"dataframe\">\n",
       "  <thead>\n",
       "    <tr style=\"text-align: right;\">\n",
       "      <th></th>\n",
       "      <th>obj_ID</th>\n",
       "      <th>alpha</th>\n",
       "      <th>delta</th>\n",
       "      <th>u</th>\n",
       "      <th>g</th>\n",
       "      <th>r</th>\n",
       "      <th>i</th>\n",
       "      <th>z</th>\n",
       "      <th>run_ID</th>\n",
       "      <th>rerun_ID</th>\n",
       "      <th>cam_col</th>\n",
       "      <th>field_ID</th>\n",
       "      <th>spec_obj_ID</th>\n",
       "      <th>class</th>\n",
       "      <th>redshift</th>\n",
       "      <th>plate</th>\n",
       "      <th>MJD</th>\n",
       "      <th>fiber_ID</th>\n",
       "    </tr>\n",
       "  </thead>\n",
       "  <tbody>\n",
       "    <tr>\n",
       "      <th>0</th>\n",
       "      <td>1.237661e+18</td>\n",
       "      <td>135.689107</td>\n",
       "      <td>32.494632</td>\n",
       "      <td>23.87882</td>\n",
       "      <td>22.27530</td>\n",
       "      <td>20.39501</td>\n",
       "      <td>19.16573</td>\n",
       "      <td>18.79371</td>\n",
       "      <td>3606</td>\n",
       "      <td>301</td>\n",
       "      <td>2</td>\n",
       "      <td>79</td>\n",
       "      <td>6.543777e+18</td>\n",
       "      <td>GALAXY</td>\n",
       "      <td>0.634794</td>\n",
       "      <td>5812</td>\n",
       "      <td>56354</td>\n",
       "      <td>171</td>\n",
       "    </tr>\n",
       "    <tr>\n",
       "      <th>1</th>\n",
       "      <td>1.237665e+18</td>\n",
       "      <td>144.826101</td>\n",
       "      <td>31.274185</td>\n",
       "      <td>24.77759</td>\n",
       "      <td>22.83188</td>\n",
       "      <td>22.58444</td>\n",
       "      <td>21.16812</td>\n",
       "      <td>21.61427</td>\n",
       "      <td>4518</td>\n",
       "      <td>301</td>\n",
       "      <td>5</td>\n",
       "      <td>119</td>\n",
       "      <td>1.176014e+19</td>\n",
       "      <td>GALAXY</td>\n",
       "      <td>0.779136</td>\n",
       "      <td>10445</td>\n",
       "      <td>58158</td>\n",
       "      <td>427</td>\n",
       "    </tr>\n",
       "    <tr>\n",
       "      <th>2</th>\n",
       "      <td>1.237661e+18</td>\n",
       "      <td>142.188790</td>\n",
       "      <td>35.582444</td>\n",
       "      <td>25.26307</td>\n",
       "      <td>22.66389</td>\n",
       "      <td>20.60976</td>\n",
       "      <td>19.34857</td>\n",
       "      <td>18.94827</td>\n",
       "      <td>3606</td>\n",
       "      <td>301</td>\n",
       "      <td>2</td>\n",
       "      <td>120</td>\n",
       "      <td>5.152200e+18</td>\n",
       "      <td>GALAXY</td>\n",
       "      <td>0.644195</td>\n",
       "      <td>4576</td>\n",
       "      <td>55592</td>\n",
       "      <td>299</td>\n",
       "    </tr>\n",
       "    <tr>\n",
       "      <th>3</th>\n",
       "      <td>1.237663e+18</td>\n",
       "      <td>338.741038</td>\n",
       "      <td>-0.402828</td>\n",
       "      <td>22.13682</td>\n",
       "      <td>23.77656</td>\n",
       "      <td>21.61162</td>\n",
       "      <td>20.50454</td>\n",
       "      <td>19.25010</td>\n",
       "      <td>4192</td>\n",
       "      <td>301</td>\n",
       "      <td>3</td>\n",
       "      <td>214</td>\n",
       "      <td>1.030107e+19</td>\n",
       "      <td>GALAXY</td>\n",
       "      <td>0.932346</td>\n",
       "      <td>9149</td>\n",
       "      <td>58039</td>\n",
       "      <td>775</td>\n",
       "    </tr>\n",
       "    <tr>\n",
       "      <th>4</th>\n",
       "      <td>1.237680e+18</td>\n",
       "      <td>345.282593</td>\n",
       "      <td>21.183866</td>\n",
       "      <td>19.43718</td>\n",
       "      <td>17.58028</td>\n",
       "      <td>16.49747</td>\n",
       "      <td>15.97711</td>\n",
       "      <td>15.54461</td>\n",
       "      <td>8102</td>\n",
       "      <td>301</td>\n",
       "      <td>3</td>\n",
       "      <td>137</td>\n",
       "      <td>6.891865e+18</td>\n",
       "      <td>GALAXY</td>\n",
       "      <td>0.116123</td>\n",
       "      <td>6121</td>\n",
       "      <td>56187</td>\n",
       "      <td>842</td>\n",
       "    </tr>\n",
       "  </tbody>\n",
       "</table>\n",
       "</div>"
      ],
      "text/plain": [
       "         obj_ID       alpha      delta         u         g         r  \\\n",
       "0  1.237661e+18  135.689107  32.494632  23.87882  22.27530  20.39501   \n",
       "1  1.237665e+18  144.826101  31.274185  24.77759  22.83188  22.58444   \n",
       "2  1.237661e+18  142.188790  35.582444  25.26307  22.66389  20.60976   \n",
       "3  1.237663e+18  338.741038  -0.402828  22.13682  23.77656  21.61162   \n",
       "4  1.237680e+18  345.282593  21.183866  19.43718  17.58028  16.49747   \n",
       "\n",
       "          i         z  run_ID  rerun_ID  cam_col  field_ID   spec_obj_ID  \\\n",
       "0  19.16573  18.79371    3606       301        2        79  6.543777e+18   \n",
       "1  21.16812  21.61427    4518       301        5       119  1.176014e+19   \n",
       "2  19.34857  18.94827    3606       301        2       120  5.152200e+18   \n",
       "3  20.50454  19.25010    4192       301        3       214  1.030107e+19   \n",
       "4  15.97711  15.54461    8102       301        3       137  6.891865e+18   \n",
       "\n",
       "    class  redshift  plate    MJD  fiber_ID  \n",
       "0  GALAXY  0.634794   5812  56354       171  \n",
       "1  GALAXY  0.779136  10445  58158       427  \n",
       "2  GALAXY  0.644195   4576  55592       299  \n",
       "3  GALAXY  0.932346   9149  58039       775  \n",
       "4  GALAXY  0.116123   6121  56187       842  "
      ]
     },
     "execution_count": 2,
     "metadata": {},
     "output_type": "execute_result"
    }
   ],
   "source": [
    "df= pd.read_csv(\"/kaggle/input/stellar-classification-dataset-sdss17/star_classification.csv\")\n",
    "df.head()"
   ]
  },
  {
   "cell_type": "code",
   "execution_count": 3,
   "id": "a5bab75d",
   "metadata": {
    "execution": {
     "iopub.execute_input": "2023-01-18T17:15:57.938124Z",
     "iopub.status.busy": "2023-01-18T17:15:57.935434Z",
     "iopub.status.idle": "2023-01-18T17:15:57.979456Z",
     "shell.execute_reply": "2023-01-18T17:15:57.978114Z"
    },
    "papermill": {
     "duration": 0.064803,
     "end_time": "2023-01-18T17:15:57.983381",
     "exception": false,
     "start_time": "2023-01-18T17:15:57.918578",
     "status": "completed"
    },
    "tags": []
   },
   "outputs": [
    {
     "name": "stdout",
     "output_type": "stream",
     "text": [
      "<class 'pandas.core.frame.DataFrame'>\n",
      "RangeIndex: 100000 entries, 0 to 99999\n",
      "Data columns (total 18 columns):\n",
      " #   Column       Non-Null Count   Dtype  \n",
      "---  ------       --------------   -----  \n",
      " 0   obj_ID       100000 non-null  float64\n",
      " 1   alpha        100000 non-null  float64\n",
      " 2   delta        100000 non-null  float64\n",
      " 3   u            100000 non-null  float64\n",
      " 4   g            100000 non-null  float64\n",
      " 5   r            100000 non-null  float64\n",
      " 6   i            100000 non-null  float64\n",
      " 7   z            100000 non-null  float64\n",
      " 8   run_ID       100000 non-null  int64  \n",
      " 9   rerun_ID     100000 non-null  int64  \n",
      " 10  cam_col      100000 non-null  int64  \n",
      " 11  field_ID     100000 non-null  int64  \n",
      " 12  spec_obj_ID  100000 non-null  float64\n",
      " 13  class        100000 non-null  object \n",
      " 14  redshift     100000 non-null  float64\n",
      " 15  plate        100000 non-null  int64  \n",
      " 16  MJD          100000 non-null  int64  \n",
      " 17  fiber_ID     100000 non-null  int64  \n",
      "dtypes: float64(10), int64(7), object(1)\n",
      "memory usage: 13.7+ MB\n"
     ]
    }
   ],
   "source": [
    "df.info()"
   ]
  },
  {
   "cell_type": "markdown",
   "id": "45e53316",
   "metadata": {
    "papermill": {
     "duration": 0.014678,
     "end_time": "2023-01-18T17:15:58.013234",
     "exception": false,
     "start_time": "2023-01-18T17:15:57.998556",
     "status": "completed"
    },
    "tags": []
   },
   "source": [
    "All of the features are numeric except \"class\" and there is no null entries."
   ]
  },
  {
   "cell_type": "code",
   "execution_count": 4,
   "id": "5c075d27",
   "metadata": {
    "execution": {
     "iopub.execute_input": "2023-01-18T17:15:58.045815Z",
     "iopub.status.busy": "2023-01-18T17:15:58.044744Z",
     "iopub.status.idle": "2023-01-18T17:15:58.064547Z",
     "shell.execute_reply": "2023-01-18T17:15:58.063291Z"
    },
    "papermill": {
     "duration": 0.038803,
     "end_time": "2023-01-18T17:15:58.066968",
     "exception": false,
     "start_time": "2023-01-18T17:15:58.028165",
     "status": "completed"
    },
    "tags": []
   },
   "outputs": [
    {
     "data": {
      "text/plain": [
       "obj_ID         0\n",
       "alpha          0\n",
       "delta          0\n",
       "u              0\n",
       "g              0\n",
       "r              0\n",
       "i              0\n",
       "z              0\n",
       "run_ID         0\n",
       "rerun_ID       0\n",
       "cam_col        0\n",
       "field_ID       0\n",
       "spec_obj_ID    0\n",
       "class          0\n",
       "redshift       0\n",
       "plate          0\n",
       "MJD            0\n",
       "fiber_ID       0\n",
       "dtype: int64"
      ]
     },
     "execution_count": 4,
     "metadata": {},
     "output_type": "execute_result"
    }
   ],
   "source": [
    "df.isnull().sum()"
   ]
  },
  {
   "cell_type": "code",
   "execution_count": 5,
   "id": "d5c16ce8",
   "metadata": {
    "execution": {
     "iopub.execute_input": "2023-01-18T17:15:58.100985Z",
     "iopub.status.busy": "2023-01-18T17:15:58.100207Z",
     "iopub.status.idle": "2023-01-18T17:15:58.253945Z",
     "shell.execute_reply": "2023-01-18T17:15:58.252831Z"
    },
    "papermill": {
     "duration": 0.173875,
     "end_time": "2023-01-18T17:15:58.256756",
     "exception": false,
     "start_time": "2023-01-18T17:15:58.082881",
     "status": "completed"
    },
    "tags": []
   },
   "outputs": [
    {
     "data": {
      "text/html": [
       "<div>\n",
       "<style scoped>\n",
       "    .dataframe tbody tr th:only-of-type {\n",
       "        vertical-align: middle;\n",
       "    }\n",
       "\n",
       "    .dataframe tbody tr th {\n",
       "        vertical-align: top;\n",
       "    }\n",
       "\n",
       "    .dataframe thead th {\n",
       "        text-align: right;\n",
       "    }\n",
       "</style>\n",
       "<table border=\"1\" class=\"dataframe\">\n",
       "  <thead>\n",
       "    <tr style=\"text-align: right;\">\n",
       "      <th></th>\n",
       "      <th>obj_ID</th>\n",
       "      <th>alpha</th>\n",
       "      <th>delta</th>\n",
       "      <th>u</th>\n",
       "      <th>g</th>\n",
       "      <th>r</th>\n",
       "      <th>i</th>\n",
       "      <th>z</th>\n",
       "      <th>run_ID</th>\n",
       "      <th>rerun_ID</th>\n",
       "      <th>cam_col</th>\n",
       "      <th>field_ID</th>\n",
       "      <th>spec_obj_ID</th>\n",
       "      <th>redshift</th>\n",
       "      <th>plate</th>\n",
       "      <th>MJD</th>\n",
       "      <th>fiber_ID</th>\n",
       "    </tr>\n",
       "  </thead>\n",
       "  <tbody>\n",
       "    <tr>\n",
       "      <th>count</th>\n",
       "      <td>1.000000e+05</td>\n",
       "      <td>100000.000000</td>\n",
       "      <td>100000.000000</td>\n",
       "      <td>100000.000000</td>\n",
       "      <td>100000.000000</td>\n",
       "      <td>100000.000000</td>\n",
       "      <td>100000.000000</td>\n",
       "      <td>100000.000000</td>\n",
       "      <td>100000.000000</td>\n",
       "      <td>100000.0</td>\n",
       "      <td>100000.000000</td>\n",
       "      <td>100000.000000</td>\n",
       "      <td>1.000000e+05</td>\n",
       "      <td>100000.000000</td>\n",
       "      <td>100000.000000</td>\n",
       "      <td>100000.000000</td>\n",
       "      <td>100000.000000</td>\n",
       "    </tr>\n",
       "    <tr>\n",
       "      <th>mean</th>\n",
       "      <td>1.237665e+18</td>\n",
       "      <td>177.629117</td>\n",
       "      <td>24.135305</td>\n",
       "      <td>21.980468</td>\n",
       "      <td>20.531387</td>\n",
       "      <td>19.645762</td>\n",
       "      <td>19.084854</td>\n",
       "      <td>18.668810</td>\n",
       "      <td>4481.366060</td>\n",
       "      <td>301.0</td>\n",
       "      <td>3.511610</td>\n",
       "      <td>186.130520</td>\n",
       "      <td>5.783882e+18</td>\n",
       "      <td>0.576661</td>\n",
       "      <td>5137.009660</td>\n",
       "      <td>55588.647500</td>\n",
       "      <td>449.312740</td>\n",
       "    </tr>\n",
       "    <tr>\n",
       "      <th>std</th>\n",
       "      <td>8.438560e+12</td>\n",
       "      <td>96.502241</td>\n",
       "      <td>19.644665</td>\n",
       "      <td>31.769291</td>\n",
       "      <td>31.750292</td>\n",
       "      <td>1.854760</td>\n",
       "      <td>1.757895</td>\n",
       "      <td>31.728152</td>\n",
       "      <td>1964.764593</td>\n",
       "      <td>0.0</td>\n",
       "      <td>1.586912</td>\n",
       "      <td>149.011073</td>\n",
       "      <td>3.324016e+18</td>\n",
       "      <td>0.730707</td>\n",
       "      <td>2952.303351</td>\n",
       "      <td>1808.484233</td>\n",
       "      <td>272.498404</td>\n",
       "    </tr>\n",
       "    <tr>\n",
       "      <th>min</th>\n",
       "      <td>1.237646e+18</td>\n",
       "      <td>0.005528</td>\n",
       "      <td>-18.785328</td>\n",
       "      <td>-9999.000000</td>\n",
       "      <td>-9999.000000</td>\n",
       "      <td>9.822070</td>\n",
       "      <td>9.469903</td>\n",
       "      <td>-9999.000000</td>\n",
       "      <td>109.000000</td>\n",
       "      <td>301.0</td>\n",
       "      <td>1.000000</td>\n",
       "      <td>11.000000</td>\n",
       "      <td>2.995191e+17</td>\n",
       "      <td>-0.009971</td>\n",
       "      <td>266.000000</td>\n",
       "      <td>51608.000000</td>\n",
       "      <td>1.000000</td>\n",
       "    </tr>\n",
       "    <tr>\n",
       "      <th>25%</th>\n",
       "      <td>1.237659e+18</td>\n",
       "      <td>127.518222</td>\n",
       "      <td>5.146771</td>\n",
       "      <td>20.352353</td>\n",
       "      <td>18.965230</td>\n",
       "      <td>18.135828</td>\n",
       "      <td>17.732285</td>\n",
       "      <td>17.460677</td>\n",
       "      <td>3187.000000</td>\n",
       "      <td>301.0</td>\n",
       "      <td>2.000000</td>\n",
       "      <td>82.000000</td>\n",
       "      <td>2.844138e+18</td>\n",
       "      <td>0.054517</td>\n",
       "      <td>2526.000000</td>\n",
       "      <td>54234.000000</td>\n",
       "      <td>221.000000</td>\n",
       "    </tr>\n",
       "    <tr>\n",
       "      <th>50%</th>\n",
       "      <td>1.237663e+18</td>\n",
       "      <td>180.900700</td>\n",
       "      <td>23.645922</td>\n",
       "      <td>22.179135</td>\n",
       "      <td>21.099835</td>\n",
       "      <td>20.125290</td>\n",
       "      <td>19.405145</td>\n",
       "      <td>19.004595</td>\n",
       "      <td>4188.000000</td>\n",
       "      <td>301.0</td>\n",
       "      <td>4.000000</td>\n",
       "      <td>146.000000</td>\n",
       "      <td>5.614883e+18</td>\n",
       "      <td>0.424173</td>\n",
       "      <td>4987.000000</td>\n",
       "      <td>55868.500000</td>\n",
       "      <td>433.000000</td>\n",
       "    </tr>\n",
       "    <tr>\n",
       "      <th>75%</th>\n",
       "      <td>1.237668e+18</td>\n",
       "      <td>233.895005</td>\n",
       "      <td>39.901550</td>\n",
       "      <td>23.687440</td>\n",
       "      <td>22.123767</td>\n",
       "      <td>21.044785</td>\n",
       "      <td>20.396495</td>\n",
       "      <td>19.921120</td>\n",
       "      <td>5326.000000</td>\n",
       "      <td>301.0</td>\n",
       "      <td>5.000000</td>\n",
       "      <td>241.000000</td>\n",
       "      <td>8.332144e+18</td>\n",
       "      <td>0.704154</td>\n",
       "      <td>7400.250000</td>\n",
       "      <td>56777.000000</td>\n",
       "      <td>645.000000</td>\n",
       "    </tr>\n",
       "    <tr>\n",
       "      <th>max</th>\n",
       "      <td>1.237681e+18</td>\n",
       "      <td>359.999810</td>\n",
       "      <td>83.000519</td>\n",
       "      <td>32.781390</td>\n",
       "      <td>31.602240</td>\n",
       "      <td>29.571860</td>\n",
       "      <td>32.141470</td>\n",
       "      <td>29.383740</td>\n",
       "      <td>8162.000000</td>\n",
       "      <td>301.0</td>\n",
       "      <td>6.000000</td>\n",
       "      <td>989.000000</td>\n",
       "      <td>1.412694e+19</td>\n",
       "      <td>7.011245</td>\n",
       "      <td>12547.000000</td>\n",
       "      <td>58932.000000</td>\n",
       "      <td>1000.000000</td>\n",
       "    </tr>\n",
       "  </tbody>\n",
       "</table>\n",
       "</div>"
      ],
      "text/plain": [
       "             obj_ID          alpha          delta              u  \\\n",
       "count  1.000000e+05  100000.000000  100000.000000  100000.000000   \n",
       "mean   1.237665e+18     177.629117      24.135305      21.980468   \n",
       "std    8.438560e+12      96.502241      19.644665      31.769291   \n",
       "min    1.237646e+18       0.005528     -18.785328   -9999.000000   \n",
       "25%    1.237659e+18     127.518222       5.146771      20.352353   \n",
       "50%    1.237663e+18     180.900700      23.645922      22.179135   \n",
       "75%    1.237668e+18     233.895005      39.901550      23.687440   \n",
       "max    1.237681e+18     359.999810      83.000519      32.781390   \n",
       "\n",
       "                   g              r              i              z  \\\n",
       "count  100000.000000  100000.000000  100000.000000  100000.000000   \n",
       "mean       20.531387      19.645762      19.084854      18.668810   \n",
       "std        31.750292       1.854760       1.757895      31.728152   \n",
       "min     -9999.000000       9.822070       9.469903   -9999.000000   \n",
       "25%        18.965230      18.135828      17.732285      17.460677   \n",
       "50%        21.099835      20.125290      19.405145      19.004595   \n",
       "75%        22.123767      21.044785      20.396495      19.921120   \n",
       "max        31.602240      29.571860      32.141470      29.383740   \n",
       "\n",
       "              run_ID  rerun_ID        cam_col       field_ID   spec_obj_ID  \\\n",
       "count  100000.000000  100000.0  100000.000000  100000.000000  1.000000e+05   \n",
       "mean     4481.366060     301.0       3.511610     186.130520  5.783882e+18   \n",
       "std      1964.764593       0.0       1.586912     149.011073  3.324016e+18   \n",
       "min       109.000000     301.0       1.000000      11.000000  2.995191e+17   \n",
       "25%      3187.000000     301.0       2.000000      82.000000  2.844138e+18   \n",
       "50%      4188.000000     301.0       4.000000     146.000000  5.614883e+18   \n",
       "75%      5326.000000     301.0       5.000000     241.000000  8.332144e+18   \n",
       "max      8162.000000     301.0       6.000000     989.000000  1.412694e+19   \n",
       "\n",
       "            redshift          plate            MJD       fiber_ID  \n",
       "count  100000.000000  100000.000000  100000.000000  100000.000000  \n",
       "mean        0.576661    5137.009660   55588.647500     449.312740  \n",
       "std         0.730707    2952.303351    1808.484233     272.498404  \n",
       "min        -0.009971     266.000000   51608.000000       1.000000  \n",
       "25%         0.054517    2526.000000   54234.000000     221.000000  \n",
       "50%         0.424173    4987.000000   55868.500000     433.000000  \n",
       "75%         0.704154    7400.250000   56777.000000     645.000000  \n",
       "max         7.011245   12547.000000   58932.000000    1000.000000  "
      ]
     },
     "execution_count": 5,
     "metadata": {},
     "output_type": "execute_result"
    }
   ],
   "source": [
    "df.describe()"
   ]
  },
  {
   "cell_type": "code",
   "execution_count": 6,
   "id": "d18e7e48",
   "metadata": {
    "execution": {
     "iopub.execute_input": "2023-01-18T17:15:58.289877Z",
     "iopub.status.busy": "2023-01-18T17:15:58.289400Z",
     "iopub.status.idle": "2023-01-18T17:15:58.305779Z",
     "shell.execute_reply": "2023-01-18T17:15:58.304498Z"
    },
    "papermill": {
     "duration": 0.035866,
     "end_time": "2023-01-18T17:15:58.308288",
     "exception": false,
     "start_time": "2023-01-18T17:15:58.272422",
     "status": "completed"
    },
    "tags": []
   },
   "outputs": [
    {
     "data": {
      "text/plain": [
       "GALAXY    59445\n",
       "STAR      21594\n",
       "QSO       18961\n",
       "Name: class, dtype: int64"
      ]
     },
     "execution_count": 6,
     "metadata": {},
     "output_type": "execute_result"
    }
   ],
   "source": [
    "df[\"class\"].value_counts()"
   ]
  },
  {
   "cell_type": "code",
   "execution_count": 7,
   "id": "a27c1118",
   "metadata": {
    "execution": {
     "iopub.execute_input": "2023-01-18T17:15:58.344184Z",
     "iopub.status.busy": "2023-01-18T17:15:58.342908Z",
     "iopub.status.idle": "2023-01-18T17:15:58.641571Z",
     "shell.execute_reply": "2023-01-18T17:15:58.640052Z"
    },
    "papermill": {
     "duration": 0.319779,
     "end_time": "2023-01-18T17:15:58.644475",
     "exception": false,
     "start_time": "2023-01-18T17:15:58.324696",
     "status": "completed"
    },
    "tags": []
   },
   "outputs": [
    {
     "data": {
      "image/png": "[encoded data removed]",
      "text/plain": [
       "<Figure size 432x288 with 1 Axes>"
      ]
     },
     "metadata": {
      "needs_background": "light"
     },
     "output_type": "display_data"
    }
   ],
   "source": [
    "sb.countplot(x = df[\"class\"], palette=\"Set3\")\n",
    "plt.title(\"Class \",fontsize=10)\n",
    "plt.show()"
   ]
  },
  {
   "cell_type": "code",
   "execution_count": 8,
   "id": "a0a6ea8b",
   "metadata": {
    "execution": {
     "iopub.execute_input": "2023-01-18T17:15:58.679676Z",
     "iopub.status.busy": "2023-01-18T17:15:58.678785Z",
     "iopub.status.idle": "2023-01-18T17:15:58.685508Z",
     "shell.execute_reply": "2023-01-18T17:15:58.684188Z"
    },
    "papermill": {
     "duration": 0.027283,
     "end_time": "2023-01-18T17:15:58.688015",
     "exception": false,
     "start_time": "2023-01-18T17:15:58.660732",
     "status": "completed"
    },
    "tags": []
   },
   "outputs": [],
   "source": [
    "# see both distribution of single variables and relationships between two variables\n",
    "#sb.pairplot(df,hue='class',palette='Dark2')"
   ]
  },
  {
   "cell_type": "markdown",
   "id": "c5328755",
   "metadata": {
    "papermill": {
     "duration": 0.016641,
     "end_time": "2023-01-18T17:15:58.720613",
     "exception": false,
     "start_time": "2023-01-18T17:15:58.703972",
     "status": "completed"
    },
    "tags": []
   },
   "source": [
    "# Preprocessing"
   ]
  },
  {
   "cell_type": "code",
   "execution_count": 9,
   "id": "a8f32119",
   "metadata": {
    "execution": {
     "iopub.execute_input": "2023-01-18T17:15:58.755165Z",
     "iopub.status.busy": "2023-01-18T17:15:58.754633Z",
     "iopub.status.idle": "2023-01-18T17:15:59.167371Z",
     "shell.execute_reply": "2023-01-18T17:15:59.165888Z"
    },
    "papermill": {
     "duration": 0.433683,
     "end_time": "2023-01-18T17:15:59.170525",
     "exception": false,
     "start_time": "2023-01-18T17:15:58.736842",
     "status": "completed"
    },
    "tags": []
   },
   "outputs": [],
   "source": [
    "from sklearn.neighbors import LocalOutlierFactor\n",
    "from sklearn.preprocessing import LabelEncoder, StandardScaler\n",
    "from sklearn.model_selection import train_test_split,GridSearchCV,cross_val_score, StratifiedKFold\n",
    "\n",
    "kfold = StratifiedKFold(n_splits=10, random_state=42, shuffle = True)"
   ]
  },
  {
   "cell_type": "markdown",
   "id": "827e6580",
   "metadata": {
    "papermill": {
     "duration": 0.016508,
     "end_time": "2023-01-18T17:15:59.203522",
     "exception": false,
     "start_time": "2023-01-18T17:15:59.187014",
     "status": "completed"
    },
    "tags": []
   },
   "source": [
    "# Feature Selection"
   ]
  },
  {
   "cell_type": "markdown",
   "id": "6a4aa6c4",
   "metadata": {
    "papermill": {
     "duration": 0.016943,
     "end_time": "2023-01-18T17:15:59.236850",
     "exception": false,
     "start_time": "2023-01-18T17:15:59.219907",
     "status": "completed"
    },
    "tags": []
   },
   "source": [
    "**TODO:** \n",
    "* Will visualize how I found the fields to be dropped like this. https://www.kaggle.com/code/songwonmin/sdss-eng#%EB%8D%B0%EC%9D%B4%ED%84%B0-%EB%B6%88%EB%9F%AC%EC%98%A4%EA%B8%B0-(data-load)\n",
    "* https://www.kaggle.com/code/cammahana/supervised-learning-sdss?scriptVersionId=87403347&cellId=8\n",
    "* distribution plot https://www.kaggle.com/code/tunahandeniz/stellar-classification-with-ensemble-algorithms?scriptVersionId=95745032&cellId=8 \n",
    "* heatmap \n",
    "https://www.kaggle.com/code/kaanergul/stellar-classification-4-model-and-ensemble#Feature-Selection \n",
    "https://www.kaggle.com/code/tharunprabhakar/stellar-classification-using-smote\n",
    "\n",
    "**EDA**\n",
    "* https://www.kaggle.com/code/naufalauliaadam/stellar-classification-dataset-sdss17#Data-Loading"
   ]
  },
  {
   "cell_type": "code",
   "execution_count": 10,
   "id": "7018e1d5",
   "metadata": {
    "execution": {
     "iopub.execute_input": "2023-01-18T17:15:59.271556Z",
     "iopub.status.busy": "2023-01-18T17:15:59.271088Z",
     "iopub.status.idle": "2023-01-18T17:15:59.282861Z",
     "shell.execute_reply": "2023-01-18T17:15:59.281484Z"
    },
    "papermill": {
     "duration": 0.031924,
     "end_time": "2023-01-18T17:15:59.285208",
     "exception": false,
     "start_time": "2023-01-18T17:15:59.253284",
     "status": "completed"
    },
    "tags": []
   },
   "outputs": [],
   "source": [
    "df = df.drop(['obj_ID','run_ID','rerun_ID','cam_col','field_ID','fiber_ID'], axis = 1)"
   ]
  },
  {
   "cell_type": "code",
   "execution_count": 11,
   "id": "4f00c895",
   "metadata": {
    "execution": {
     "iopub.execute_input": "2023-01-18T17:15:59.320437Z",
     "iopub.status.busy": "2023-01-18T17:15:59.319912Z",
     "iopub.status.idle": "2023-01-18T17:15:59.330558Z",
     "shell.execute_reply": "2023-01-18T17:15:59.328950Z"
    },
    "papermill": {
     "duration": 0.031267,
     "end_time": "2023-01-18T17:15:59.333374",
     "exception": false,
     "start_time": "2023-01-18T17:15:59.302107",
     "status": "completed"
    },
    "tags": []
   },
   "outputs": [],
   "source": [
    "x = df.drop('class',axis=1)\n",
    "y = df['class']"
   ]
  },
  {
   "cell_type": "code",
   "execution_count": 12,
   "id": "60f3d578",
   "metadata": {
    "execution": {
     "iopub.execute_input": "2023-01-18T17:15:59.370170Z",
     "iopub.status.busy": "2023-01-18T17:15:59.369626Z",
     "iopub.status.idle": "2023-01-18T17:16:01.101752Z",
     "shell.execute_reply": "2023-01-18T17:16:01.100442Z"
    },
    "papermill": {
     "duration": 1.754242,
     "end_time": "2023-01-18T17:16:01.104671",
     "exception": false,
     "start_time": "2023-01-18T17:15:59.350429",
     "status": "completed"
    },
    "tags": []
   },
   "outputs": [],
   "source": [
    "clf = LocalOutlierFactor()\n",
    "y_loc = clf.fit_predict(x)"
   ]
  },
  {
   "cell_type": "code",
   "execution_count": 13,
   "id": "4f8453c5",
   "metadata": {
    "execution": {
     "iopub.execute_input": "2023-01-18T17:16:01.142188Z",
     "iopub.status.busy": "2023-01-18T17:16:01.141643Z",
     "iopub.status.idle": "2023-01-18T17:16:01.162851Z",
     "shell.execute_reply": "2023-01-18T17:16:01.161511Z"
    },
    "papermill": {
     "duration": 0.044278,
     "end_time": "2023-01-18T17:16:01.165945",
     "exception": false,
     "start_time": "2023-01-18T17:16:01.121667",
     "status": "completed"
    },
    "tags": []
   },
   "outputs": [],
   "source": [
    "x_score = clf.negative_outlier_factor_\n",
    "outlier_score = pd.DataFrame()\n",
    "outlier_score[\"score\"] = x_score\n",
    "#threshold\n",
    "threshold = np.quantile(x_score , .10)                                            "
   ]
  },
  {
   "cell_type": "code",
   "execution_count": 14,
   "id": "51611913",
   "metadata": {
    "execution": {
     "iopub.execute_input": "2023-01-18T17:16:01.202309Z",
     "iopub.status.busy": "2023-01-18T17:16:01.201623Z",
     "iopub.status.idle": "2023-01-18T17:16:01.209705Z",
     "shell.execute_reply": "2023-01-18T17:16:01.208432Z"
    },
    "papermill": {
     "duration": 0.02973,
     "end_time": "2023-01-18T17:16:01.212547",
     "exception": false,
     "start_time": "2023-01-18T17:16:01.182817",
     "status": "completed"
    },
    "tags": []
   },
   "outputs": [
    {
     "data": {
      "text/plain": [
       "-2.3191353459944413"
      ]
     },
     "execution_count": 14,
     "metadata": {},
     "output_type": "execute_result"
    }
   ],
   "source": [
    "threshold"
   ]
  },
  {
   "cell_type": "code",
   "execution_count": 15,
   "id": "a22aaeeb",
   "metadata": {
    "execution": {
     "iopub.execute_input": "2023-01-18T17:16:01.248774Z",
     "iopub.status.busy": "2023-01-18T17:16:01.248306Z",
     "iopub.status.idle": "2023-01-18T17:16:01.258499Z",
     "shell.execute_reply": "2023-01-18T17:16:01.257517Z"
    },
    "papermill": {
     "duration": 0.031541,
     "end_time": "2023-01-18T17:16:01.261126",
     "exception": false,
     "start_time": "2023-01-18T17:16:01.229585",
     "status": "completed"
    },
    "tags": []
   },
   "outputs": [
    {
     "data": {
      "text/plain": [
       "10000"
      ]
     },
     "execution_count": 15,
     "metadata": {},
     "output_type": "execute_result"
    }
   ],
   "source": [
    "filtre = outlier_score[\"score\"] < threshold\n",
    "outlier_index = outlier_score[filtre].index.tolist()\n",
    "len(outlier_index)"
   ]
  },
  {
   "cell_type": "markdown",
   "id": "fa27f515",
   "metadata": {
    "papermill": {
     "duration": 0.01726,
     "end_time": "2023-01-18T17:16:01.295380",
     "exception": false,
     "start_time": "2023-01-18T17:16:01.278120",
     "status": "completed"
    },
    "tags": []
   },
   "source": [
    "# Train / Test Split"
   ]
  },
  {
   "cell_type": "code",
   "execution_count": 16,
   "id": "bec01ff4",
   "metadata": {
    "execution": {
     "iopub.execute_input": "2023-01-18T17:16:01.333144Z",
     "iopub.status.busy": "2023-01-18T17:16:01.332626Z",
     "iopub.status.idle": "2023-01-18T17:16:01.370640Z",
     "shell.execute_reply": "2023-01-18T17:16:01.368603Z"
    },
    "papermill": {
     "duration": 0.061694,
     "end_time": "2023-01-18T17:16:01.374685",
     "exception": false,
     "start_time": "2023-01-18T17:16:01.312991",
     "status": "completed"
    },
    "tags": []
   },
   "outputs": [
    {
     "name": "stdout",
     "output_type": "stream",
     "text": [
      "[0 1 2] [59445 18961 21594]\n"
     ]
    }
   ],
   "source": [
    "le=LabelEncoder()\n",
    "y = le.fit_transform(y)\n",
    "unique, counts = np.unique(y, return_counts=True)\n",
    "print(unique, counts)\n",
    "\n",
    "#0-GALAXY    59445\n",
    "#2-STAR      21594\n",
    "#1-QSO       18961"
   ]
  },
  {
   "cell_type": "code",
   "execution_count": 17,
   "id": "560ab800",
   "metadata": {
    "execution": {
     "iopub.execute_input": "2023-01-18T17:16:01.411770Z",
     "iopub.status.busy": "2023-01-18T17:16:01.411225Z",
     "iopub.status.idle": "2023-01-18T17:16:01.431062Z",
     "shell.execute_reply": "2023-01-18T17:16:01.429567Z"
    },
    "papermill": {
     "duration": 0.042456,
     "end_time": "2023-01-18T17:16:01.434763",
     "exception": false,
     "start_time": "2023-01-18T17:16:01.392307",
     "status": "completed"
    },
    "tags": []
   },
   "outputs": [
    {
     "data": {
      "text/plain": [
       "class\n",
       "0        59445\n",
       "2        21594\n",
       "1        18961\n",
       "dtype: int64"
      ]
     },
     "execution_count": 17,
     "metadata": {},
     "output_type": "execute_result"
    }
   ],
   "source": [
    "y_df=pd.DataFrame({'class':le.fit_transform(y)}) \n",
    "y_df.value_counts()"
   ]
  },
  {
   "cell_type": "code",
   "execution_count": 18,
   "id": "e475e759",
   "metadata": {
    "execution": {
     "iopub.execute_input": "2023-01-18T17:16:01.474863Z",
     "iopub.status.busy": "2023-01-18T17:16:01.474413Z",
     "iopub.status.idle": "2023-01-18T17:16:01.536756Z",
     "shell.execute_reply": "2023-01-18T17:16:01.534837Z"
    },
    "papermill": {
     "duration": 0.086848,
     "end_time": "2023-01-18T17:16:01.541700",
     "exception": false,
     "start_time": "2023-01-18T17:16:01.454852",
     "status": "completed"
    },
    "tags": []
   },
   "outputs": [
    {
     "name": "stdout",
     "output_type": "stream",
     "text": [
      "xtrain: (67000, 11)\n",
      "xtest: (33000, 11)\n",
      "ytrain: (67000,)\n",
      "ytest: (33000,)\n"
     ]
    }
   ],
   "source": [
    "xtrain, xtest, ytrain, ytest = train_test_split(x, y, test_size = 0.33, random_state = 42, stratify = y, shuffle=True)\n",
    "print(\"xtrain: {}\".format(xtrain.shape))\n",
    "print(\"xtest: {}\".format(xtest.shape))\n",
    "print(\"ytrain: {}\".format(ytrain.shape))\n",
    "print(\"ytest: {}\".format(ytest.shape))"
   ]
  },
  {
   "cell_type": "markdown",
   "id": "44b733db",
   "metadata": {
    "papermill": {
     "duration": 0.01857,
     "end_time": "2023-01-18T17:16:01.578551",
     "exception": false,
     "start_time": "2023-01-18T17:16:01.559981",
     "status": "completed"
    },
    "tags": []
   },
   "source": [
    "# Data Scaling"
   ]
  },
  {
   "cell_type": "code",
   "execution_count": 19,
   "id": "3d95f85f",
   "metadata": {
    "execution": {
     "iopub.execute_input": "2023-01-18T17:16:01.617904Z",
     "iopub.status.busy": "2023-01-18T17:16:01.617120Z",
     "iopub.status.idle": "2023-01-18T17:16:01.648964Z",
     "shell.execute_reply": "2023-01-18T17:16:01.647973Z"
    },
    "papermill": {
     "duration": 0.054264,
     "end_time": "2023-01-18T17:16:01.651723",
     "exception": false,
     "start_time": "2023-01-18T17:16:01.597459",
     "status": "completed"
    },
    "tags": []
   },
   "outputs": [],
   "source": [
    "scaler = StandardScaler()\n",
    "#x = scaler.fit_transform(x)\n",
    "xtrain = scaler.fit_transform(xtrain)\n",
    "xtest  = scaler.transform(xtest)"
   ]
  },
  {
   "cell_type": "markdown",
   "id": "cd7c7bde",
   "metadata": {
    "papermill": {
     "duration": 0.017276,
     "end_time": "2023-01-18T17:16:01.686667",
     "exception": false,
     "start_time": "2023-01-18T17:16:01.669391",
     "status": "completed"
    },
    "tags": []
   },
   "source": [
    "# Sampling With SMOTE"
   ]
  },
  {
   "cell_type": "code",
   "execution_count": 20,
   "id": "1b82faa6",
   "metadata": {
    "execution": {
     "iopub.execute_input": "2023-01-18T17:16:01.726287Z",
     "iopub.status.busy": "2023-01-18T17:16:01.725768Z",
     "iopub.status.idle": "2023-01-18T17:16:02.773739Z",
     "shell.execute_reply": "2023-01-18T17:16:02.772128Z"
    },
    "papermill": {
     "duration": 1.071284,
     "end_time": "2023-01-18T17:16:02.776661",
     "exception": false,
     "start_time": "2023-01-18T17:16:01.705377",
     "status": "completed"
    },
    "tags": []
   },
   "outputs": [
    {
     "name": "stdout",
     "output_type": "stream",
     "text": [
      "Original dataset shape Counter({0: 59445, 2: 21594, 1: 18961})\n",
      "Original ytrain dataset shape Counter({0: 39828, 2: 14468, 1: 12704})\n",
      "Resampled ytrain dataset shape Counter({1: 39828, 0: 39828, 2: 39828})\n"
     ]
    }
   ],
   "source": [
    "from imblearn.over_sampling import SMOTE\n",
    "from collections import Counter\n",
    "smote = SMOTE(random_state=42)\n",
    "print('Original dataset shape %s' % Counter(y))\n",
    "print('Original ytrain dataset shape %s' % Counter(ytrain))\n",
    "xtrain_smote, ytrain_smote = smote.fit_resample(xtrain, ytrain)\n",
    "print('Resampled ytrain dataset shape %s' % Counter(ytrain_smote))"
   ]
  },
  {
   "cell_type": "code",
   "execution_count": 21,
   "id": "29bf3f44",
   "metadata": {
    "execution": {
     "iopub.execute_input": "2023-01-18T17:16:02.826069Z",
     "iopub.status.busy": "2023-01-18T17:16:02.825115Z",
     "iopub.status.idle": "2023-01-18T17:16:03.043683Z",
     "shell.execute_reply": "2023-01-18T17:16:03.042306Z"
    },
    "papermill": {
     "duration": 0.253495,
     "end_time": "2023-01-18T17:16:03.048331",
     "exception": false,
     "start_time": "2023-01-18T17:16:02.794836",
     "status": "completed"
    },
    "tags": []
   },
   "outputs": [
    {
     "name": "stderr",
     "output_type": "stream",
     "text": [
      "/opt/conda/lib/python3.7/site-packages/seaborn/_decorators.py:43: FutureWarning: Pass the following variable as a keyword arg: x. From version 0.12, the only valid positional argument will be `data`, and passing other arguments without an explicit keyword will result in an error or misinterpretation.\n",
      "  FutureWarning\n"
     ]
    },
    {
     "data": {
      "image/png": "[encoded data removed]",
      "text/plain": [
       "<Figure size 432x288 with 1 Axes>"
      ]
     },
     "metadata": {
      "needs_background": "light"
     },
     "output_type": "display_data"
    }
   ],
   "source": [
    "sb.countplot(ytrain_smote, palette='Set3')\n",
    "plt.title(\"Class \",fontsize=10)\n",
    "plt.show()"
   ]
  },
  {
   "cell_type": "markdown",
   "id": "10a43e0e",
   "metadata": {
    "papermill": {
     "duration": 0.019308,
     "end_time": "2023-01-18T17:16:03.095900",
     "exception": false,
     "start_time": "2023-01-18T17:16:03.076592",
     "status": "completed"
    },
    "tags": []
   },
   "source": [
    "# Training"
   ]
  },
  {
   "cell_type": "code",
   "execution_count": 22,
   "id": "35823fee",
   "metadata": {
    "execution": {
     "iopub.execute_input": "2023-01-18T17:16:03.135538Z",
     "iopub.status.busy": "2023-01-18T17:16:03.135090Z",
     "iopub.status.idle": "2023-01-18T17:16:05.628123Z",
     "shell.execute_reply": "2023-01-18T17:16:05.626619Z"
    },
    "papermill": {
     "duration": 2.516641,
     "end_time": "2023-01-18T17:16:05.631718",
     "exception": false,
     "start_time": "2023-01-18T17:16:03.115077",
     "status": "completed"
    },
    "tags": []
   },
   "outputs": [
    {
     "data": {
      "text/html": [
       "<style type='text/css'>\n",
       ".datatable table.frame { margin-bottom: 0; }\n",
       ".datatable table.frame thead { border-bottom: none; }\n",
       ".datatable table.frame tr.coltypes td {  color: #FFFFFF;  line-height: 6px;  padding: 0 0.5em;}\n",
       ".datatable .bool    { background: #DDDD99; }\n",
       ".datatable .object  { background: #565656; }\n",
       ".datatable .int     { background: #5D9E5D; }\n",
       ".datatable .float   { background: #4040CC; }\n",
       ".datatable .str     { background: #CC4040; }\n",
       ".datatable .time    { background: #40CC40; }\n",
       ".datatable .row_index {  background: var(--jp-border-color3);  border-right: 1px solid var(--jp-border-color0);  color: var(--jp-ui-font-color3);  font-size: 9px;}\n",
       ".datatable .frame tbody td { text-align: left; }\n",
       ".datatable .frame tr.coltypes .row_index {  background: var(--jp-border-color0);}\n",
       ".datatable th:nth-child(2) { padding-left: 12px; }\n",
       ".datatable .hellipsis {  color: var(--jp-cell-editor-border-color);}\n",
       ".datatable .vellipsis {  background: var(--jp-layout-color0);  color: var(--jp-cell-editor-border-color);}\n",
       ".datatable .na {  color: var(--jp-cell-editor-border-color);  font-size: 80%;}\n",
       ".datatable .sp {  opacity: 0.25;}\n",
       ".datatable .footer { font-size: 9px; }\n",
       ".datatable .frame_dimensions {  background: var(--jp-border-color3);  border-top: 1px solid var(--jp-border-color0);  color: var(--jp-ui-font-color3);  display: inline-block;  opacity: 0.6;  padding: 1px 10px 1px 5px;}\n",
       "</style>\n"
      ],
      "text/plain": [
       "<IPython.core.display.HTML object>"
      ]
     },
     "metadata": {},
     "output_type": "display_data"
    }
   ],
   "source": [
    "import statsmodels.api as sm\n",
    "from sklearn.metrics import classification_report\n",
    "from sklearn.metrics import confusion_matrix\n",
    "from sklearn.metrics import roc_curve,precision_score,recall_score,f1_score,accuracy_score\n",
    "from sklearn.metrics import roc_auc_score\n",
    "from yellowbrick.classifier import ROCAUC,ConfusionMatrix\n",
    "\n",
    "from sklearn.svm import SVC\n",
    "from sklearn.ensemble import RandomForestClassifier\n",
    "from sklearn.neighbors import KNeighborsClassifier\n",
    "import xgboost as xgboost\n",
    "#from xgboost import XGBClassifier\n",
    "from sklearn.ensemble import VotingClassifier\n",
    "from sklearn.ensemble import StackingClassifier\n",
    "\n",
    "from sklearn.ensemble import BaggingClassifier\n",
    "from catboost import CatBoostClassifier\n",
    "from lightgbm import LGBMClassifier\n",
    "from sklearn.ensemble import GradientBoostingClassifier\n",
    "from sklearn.ensemble import AdaBoostClassifier\n",
    "import time"
   ]
  },
  {
   "cell_type": "markdown",
   "id": "191903c9",
   "metadata": {
    "papermill": {
     "duration": 0.0178,
     "end_time": "2023-01-18T17:16:05.668870",
     "exception": false,
     "start_time": "2023-01-18T17:16:05.651070",
     "status": "completed"
    },
    "tags": []
   },
   "source": [
    "# Support Vector Machine (SVM)"
   ]
  },
  {
   "cell_type": "code",
   "execution_count": 23,
   "id": "ec775101",
   "metadata": {
    "execution": {
     "iopub.execute_input": "2023-01-18T17:16:05.708356Z",
     "iopub.status.busy": "2023-01-18T17:16:05.707843Z",
     "iopub.status.idle": "2023-01-18T18:23:36.127261Z",
     "shell.execute_reply": "2023-01-18T18:23:36.125697Z"
    },
    "papermill": {
     "duration": 4050.460994,
     "end_time": "2023-01-18T18:23:36.147875",
     "exception": false,
     "start_time": "2023-01-18T17:16:05.686881",
     "status": "completed"
    },
    "tags": []
   },
   "outputs": [
    {
     "name": "stdout",
     "output_type": "stream",
     "text": [
      "Fitting 10 folds for each of 4 candidates, totalling 40 fits\n",
      "CPU times: user 8min 31s, sys: 847 ms, total: 8min 32s\n",
      "Wall time: 1h 7min 30s\n"
     ]
    }
   ],
   "source": [
    "%%time\n",
    "#score = cross_val_score(svc, xtrain_smote, ytrain_smote, cv = kfold)\n",
    "# train grid search\n",
    "params = {'C': [1, 10], 'gamma': [1,0.1],'kernel': ['rbf']}\n",
    "svm_grid_search = GridSearchCV(estimator = SVC(), param_grid=params, cv = kfold, n_jobs=-1, verbose=1)\n",
    "start = time.time()\n",
    "clf=svm_grid_search.fit(xtrain_smote, ytrain_smote)\n",
    "end = time.time()"
   ]
  },
  {
   "cell_type": "code",
   "execution_count": 24,
   "id": "b24331a2",
   "metadata": {
    "execution": {
     "iopub.execute_input": "2023-01-18T18:23:36.279916Z",
     "iopub.status.busy": "2023-01-18T18:23:36.279403Z",
     "iopub.status.idle": "2023-01-18T18:23:36.292376Z",
     "shell.execute_reply": "2023-01-18T18:23:36.291087Z"
    },
    "papermill": {
     "duration": 0.129213,
     "end_time": "2023-01-18T18:23:36.294925",
     "exception": false,
     "start_time": "2023-01-18T18:23:36.165712",
     "status": "completed"
    },
    "tags": []
   },
   "outputs": [
    {
     "name": "stdout",
     "output_type": "stream",
     "text": [
      "[INFO] grid search took 4050.41 seconds\n",
      "Best Score: 0.9737\n",
      "Best Params: {'C': 10, 'gamma': 1, 'kernel': 'rbf'}\n",
      "Best Estimator: \n",
      "SVC(C=10, gamma=1)\n",
      "GridSearchCV(cv=StratifiedKFold(n_splits=10, random_state=42, shuffle=True),\n",
      "             estimator=SVC(), n_jobs=-1,\n",
      "             param_grid={'C': [1, 10], 'gamma': [1, 0.1], 'kernel': ['rbf']},\n",
      "             verbose=1)\n"
     ]
    }
   ],
   "source": [
    "print(\"[INFO] grid search took {:.2f} seconds\".format(end - start))\n",
    "print('Best Score: %.4f' % (svm_grid_search.best_score_))\n",
    "print('Best Params: %s' % (svm_grid_search.best_params_))\n",
    "print('Best Estimator: ') \n",
    "grid_best = svm_grid_search.best_estimator_\n",
    "print(grid_best)\n",
    "#print('GridSearchCV mean_test_score: %.3f' % (svm_grid_search.cv_results_[\"mean_test_score\"]))\n",
    "print(clf)\n",
    "#print('Best hyperparameters are: '+str(model_random.best_params_))\n",
    "#print('Best score is: '+str(model_random.best_score_))\n",
    "#print('Best Score: %s' % result.best_score_)\n",
    "#print('Best Hyperparameters: %s' % result.best_params_)"
   ]
  },
  {
   "cell_type": "code",
   "execution_count": 25,
   "id": "26f281d6",
   "metadata": {
    "execution": {
     "iopub.execute_input": "2023-01-18T18:23:36.334590Z",
     "iopub.status.busy": "2023-01-18T18:23:36.333700Z",
     "iopub.status.idle": "2023-01-18T18:24:31.611703Z",
     "shell.execute_reply": "2023-01-18T18:24:31.610298Z"
    },
    "papermill": {
     "duration": 55.31913,
     "end_time": "2023-01-18T18:24:31.632801",
     "exception": false,
     "start_time": "2023-01-18T18:23:36.313671",
     "status": "completed"
    },
    "tags": []
   },
   "outputs": [
    {
     "name": "stdout",
     "output_type": "stream",
     "text": [
      "0.9665757575757575\n",
      "Test Accuracy : 0.9666\n",
      "Test SVM Accuracy :  96.66%\n"
     ]
    }
   ],
   "source": [
    "ypredicted=svm_grid_search.predict(xtest)\n",
    "score = clf.score(xtest, ytest)  \n",
    "print(score)\n",
    "svm_score = np.mean(score)\n",
    "print('Test Accuracy : %.4f' % (svm_score))\n",
    "print('Test SVM Accuracy : ' + \" {:.2f}%\".format(np.mean(score) * 100))"
   ]
  },
  {
   "cell_type": "code",
   "execution_count": 26,
   "id": "cd13c8e5",
   "metadata": {
    "execution": {
     "iopub.execute_input": "2023-01-18T18:24:31.674261Z",
     "iopub.status.busy": "2023-01-18T18:24:31.673363Z",
     "iopub.status.idle": "2023-01-18T18:24:31.742537Z",
     "shell.execute_reply": "2023-01-18T18:24:31.741178Z"
    },
    "papermill": {
     "duration": 0.092811,
     "end_time": "2023-01-18T18:24:31.745183",
     "exception": false,
     "start_time": "2023-01-18T18:24:31.652372",
     "status": "completed"
    },
    "tags": []
   },
   "outputs": [
    {
     "name": "stdout",
     "output_type": "stream",
     "text": [
      "              precision    recall  f1-score   support\n",
      "\n",
      "           0       0.98      0.97      0.97     19617\n",
      "           1       0.94      0.93      0.94      6257\n",
      "           2       0.96      1.00      0.98      7126\n",
      "\n",
      "    accuracy                           0.97     33000\n",
      "   macro avg       0.96      0.97      0.96     33000\n",
      "weighted avg       0.97      0.97      0.97     33000\n",
      "\n",
      "SVM model accuracy_score on test: 0.9665757575757575\n"
     ]
    }
   ],
   "source": [
    "print(classification_report(ytest,ypredicted))\n",
    "print(\"SVM model accuracy_score on test:\", accuracy_score(ytest, ypredicted))"
   ]
  },
  {
   "cell_type": "code",
   "execution_count": 27,
   "id": "f7043aeb",
   "metadata": {
    "execution": {
     "iopub.execute_input": "2023-01-18T18:24:31.784804Z",
     "iopub.status.busy": "2023-01-18T18:24:31.783965Z",
     "iopub.status.idle": "2023-01-18T18:24:32.170594Z",
     "shell.execute_reply": "2023-01-18T18:24:32.169101Z"
    },
    "papermill": {
     "duration": 0.409692,
     "end_time": "2023-01-18T18:24:32.173341",
     "exception": false,
     "start_time": "2023-01-18T18:24:31.763649",
     "status": "completed"
    },
    "tags": []
   },
   "outputs": [
    {
     "name": "stdout",
     "output_type": "stream",
     "text": [
      "AxesSubplot(0.125,0.125;0.62x0.755)\n"
     ]
    },
    {
     "data": {
      "image/png": "[encoded data removed]",
      "text/plain": [
       "<Figure size 576x396 with 2 Axes>"
      ]
     },
     "metadata": {},
     "output_type": "display_data"
    }
   ],
   "source": [
    "cm = confusion_matrix(ytest, ypredicted)\n",
    "cm\n",
    "print(sb.heatmap(cm,annot=True,fmt=\".2f\"))"
   ]
  },
  {
   "cell_type": "code",
   "execution_count": 28,
   "id": "f69bcb6a",
   "metadata": {
    "execution": {
     "iopub.execute_input": "2023-01-18T18:24:32.213976Z",
     "iopub.status.busy": "2023-01-18T18:24:32.213517Z",
     "iopub.status.idle": "2023-01-18T18:25:26.740009Z",
     "shell.execute_reply": "2023-01-18T18:25:26.738077Z"
    },
    "papermill": {
     "duration": 54.579675,
     "end_time": "2023-01-18T18:25:26.772227",
     "exception": false,
     "start_time": "2023-01-18T18:24:32.192552",
     "status": "completed"
    },
    "tags": []
   },
   "outputs": [
    {
     "data": {
      "image/png": "[encoded data removed]",
      "text/plain": [
       "<Figure size 576x396 with 1 Axes>"
      ]
     },
     "metadata": {},
     "output_type": "display_data"
    },
    {
     "data": {
      "text/plain": [
       "<AxesSubplot:title={'center':'GridSearchCV Confusion Matrix'}, xlabel='Predicted Class', ylabel='True Class'>"
      ]
     },
     "execution_count": 28,
     "metadata": {},
     "output_type": "execute_result"
    }
   ],
   "source": [
    "svm_cm = ConfusionMatrix(svm_grid_search, classes=['GALAXY','STAR','QSO'], cmap='YlOrRd')\n",
    "\n",
    "svm_cm.fit(xtrain_smote, ytrain_smote)\n",
    "svm_cm.score(xtest, ytest)\n",
    "svm_cm.show()"
   ]
  },
  {
   "cell_type": "markdown",
   "id": "fc9d9a3b",
   "metadata": {
    "papermill": {
     "duration": 0.019788,
     "end_time": "2023-01-18T18:25:26.811785",
     "exception": false,
     "start_time": "2023-01-18T18:25:26.791997",
     "status": "completed"
    },
    "tags": []
   },
   "source": [
    "# Random Forest Classifier (RF)"
   ]
  },
  {
   "cell_type": "code",
   "execution_count": 29,
   "id": "0aa08648",
   "metadata": {
    "execution": {
     "iopub.execute_input": "2023-01-18T18:25:26.854460Z",
     "iopub.status.busy": "2023-01-18T18:25:26.853892Z",
     "iopub.status.idle": "2023-01-18T18:36:37.267454Z",
     "shell.execute_reply": "2023-01-18T18:36:37.266339Z"
    },
    "papermill": {
     "duration": 670.457269,
     "end_time": "2023-01-18T18:36:37.289487",
     "exception": false,
     "start_time": "2023-01-18T18:25:26.832218",
     "status": "completed"
    },
    "tags": []
   },
   "outputs": [
    {
     "name": "stdout",
     "output_type": "stream",
     "text": [
      "CPU times: user 45.3 s, sys: 217 ms, total: 45.5 s\n",
      "Wall time: 11min 10s\n"
     ]
    }
   ],
   "source": [
    "%%time\n",
    "rfc = RandomForestClassifier(random_state = 42)\n",
    "# train grid search\n",
    "params = {'max_depth':[5,10], 'n_estimators':[10,100,150]}       \n",
    "rfc_grid_search = GridSearchCV(estimator = rfc, param_grid = params, cv = kfold, n_jobs=-1)\n",
    "start = time.time()\n",
    "clf=rfc_grid_search.fit(xtrain_smote, ytrain_smote)\n",
    "end = time.time()"
   ]
  },
  {
   "cell_type": "code",
   "execution_count": 30,
   "id": "d71b4959",
   "metadata": {
    "execution": {
     "iopub.execute_input": "2023-01-18T18:36:37.333951Z",
     "iopub.status.busy": "2023-01-18T18:36:37.332772Z",
     "iopub.status.idle": "2023-01-18T18:36:37.342531Z",
     "shell.execute_reply": "2023-01-18T18:36:37.341377Z"
    },
    "papermill": {
     "duration": 0.035877,
     "end_time": "2023-01-18T18:36:37.345879",
     "exception": false,
     "start_time": "2023-01-18T18:36:37.310002",
     "status": "completed"
    },
    "tags": []
   },
   "outputs": [
    {
     "name": "stdout",
     "output_type": "stream",
     "text": [
      "[INFO] grid search took 670.40 seconds\n",
      "Best Score: 0.9757\n",
      "Best Params: {'max_depth': 10, 'n_estimators': 100}\n",
      "Best Estimator: \n",
      "RandomForestClassifier(max_depth=10, random_state=42)\n",
      "GridSearchCV(cv=StratifiedKFold(n_splits=10, random_state=42, shuffle=True),\n",
      "             estimator=RandomForestClassifier(random_state=42), n_jobs=-1,\n",
      "             param_grid={'max_depth': [5, 10], 'n_estimators': [10, 100, 150]})\n"
     ]
    }
   ],
   "source": [
    "print(\"[INFO] grid search took {:.2f} seconds\".format(end - start))\n",
    "print('Best Score: %.4f' % (rfc_grid_search.best_score_))\n",
    "print('Best Params: %s' % (rfc_grid_search.best_params_))\n",
    "print('Best Estimator: ') \n",
    "print(rfc_grid_search.best_estimator_)\n",
    "print(clf)"
   ]
  },
  {
   "cell_type": "code",
   "execution_count": 31,
   "id": "4d76680d",
   "metadata": {
    "execution": {
     "iopub.execute_input": "2023-01-18T18:36:37.387647Z",
     "iopub.status.busy": "2023-01-18T18:36:37.387133Z",
     "iopub.status.idle": "2023-01-18T18:36:38.289936Z",
     "shell.execute_reply": "2023-01-18T18:36:38.288404Z"
    },
    "papermill": {
     "duration": 0.9271,
     "end_time": "2023-01-18T18:36:38.292935",
     "exception": false,
     "start_time": "2023-01-18T18:36:37.365835",
     "status": "completed"
    },
    "tags": []
   },
   "outputs": [
    {
     "name": "stdout",
     "output_type": "stream",
     "text": [
      "Test Accuracy : 0.9719\n",
      "Test RFC Accuracy :  97.19%\n"
     ]
    }
   ],
   "source": [
    "ypredicted=rfc_grid_search.predict(xtest)\n",
    "score = clf.score(xtest, ytest)  \n",
    "rfc_score = np.mean(score)\n",
    "print('Test Accuracy : %.4f' % (rfc_score))\n",
    "print('Test RFC Accuracy : ' + \" {:.2f}%\".format(np.mean(score) * 100))"
   ]
  },
  {
   "cell_type": "code",
   "execution_count": 32,
   "id": "ec868c93",
   "metadata": {
    "execution": {
     "iopub.execute_input": "2023-01-18T18:36:38.335700Z",
     "iopub.status.busy": "2023-01-18T18:36:38.335232Z",
     "iopub.status.idle": "2023-01-18T18:36:38.403696Z",
     "shell.execute_reply": "2023-01-18T18:36:38.402227Z"
    },
    "papermill": {
     "duration": 0.094102,
     "end_time": "2023-01-18T18:36:38.407429",
     "exception": false,
     "start_time": "2023-01-18T18:36:38.313327",
     "status": "completed"
    },
    "tags": []
   },
   "outputs": [
    {
     "name": "stdout",
     "output_type": "stream",
     "text": [
      "              precision    recall  f1-score   support\n",
      "\n",
      "           0       0.98      0.97      0.98     19617\n",
      "           1       0.93      0.95      0.94      6257\n",
      "           2       0.98      1.00      0.99      7126\n",
      "\n",
      "    accuracy                           0.97     33000\n",
      "   macro avg       0.96      0.97      0.97     33000\n",
      "weighted avg       0.97      0.97      0.97     33000\n",
      "\n",
      "RFC model accuracy_score on test: 0.971939393939394\n"
     ]
    }
   ],
   "source": [
    "print(classification_report(ytest,ypredicted))\n",
    "print(\"RFC model accuracy_score on test:\", accuracy_score(ytest, ypredicted))"
   ]
  },
  {
   "cell_type": "code",
   "execution_count": 33,
   "id": "3524bf85",
   "metadata": {
    "execution": {
     "iopub.execute_input": "2023-01-18T18:36:38.452610Z",
     "iopub.status.busy": "2023-01-18T18:36:38.452148Z",
     "iopub.status.idle": "2023-01-18T18:36:38.820581Z",
     "shell.execute_reply": "2023-01-18T18:36:38.819001Z"
    },
    "papermill": {
     "duration": 0.394401,
     "end_time": "2023-01-18T18:36:38.823267",
     "exception": false,
     "start_time": "2023-01-18T18:36:38.428866",
     "status": "completed"
    },
    "tags": []
   },
   "outputs": [
    {
     "name": "stdout",
     "output_type": "stream",
     "text": [
      "AxesSubplot(0.125,0.125;0.62x0.755)\n"
     ]
    },
    {
     "data": {
      "image/png": "[encoded data removed]",
      "text/plain": [
       "<Figure size 576x396 with 2 Axes>"
      ]
     },
     "metadata": {},
     "output_type": "display_data"
    }
   ],
   "source": [
    "cm = confusion_matrix(ytest, ypredicted)\n",
    "cm\n",
    "print(sb.heatmap(cm,annot=True,fmt=\".2f\"))"
   ]
  },
  {
   "cell_type": "code",
   "execution_count": 34,
   "id": "85eaa65b",
   "metadata": {
    "execution": {
     "iopub.execute_input": "2023-01-18T18:36:38.868130Z",
     "iopub.status.busy": "2023-01-18T18:36:38.867604Z",
     "iopub.status.idle": "2023-01-18T18:36:40.062222Z",
     "shell.execute_reply": "2023-01-18T18:36:40.060055Z"
    },
    "papermill": {
     "duration": 1.222775,
     "end_time": "2023-01-18T18:36:40.067197",
     "exception": false,
     "start_time": "2023-01-18T18:36:38.844422",
     "status": "completed"
    },
    "tags": []
   },
   "outputs": [
    {
     "data": {
      "image/png": "[encoded data removed]",
      "text/plain": [
       "<Figure size 576x396 with 1 Axes>"
      ]
     },
     "metadata": {},
     "output_type": "display_data"
    },
    {
     "data": {
      "text/plain": [
       "<AxesSubplot:title={'center':'GridSearchCV Confusion Matrix'}, xlabel='Predicted Class', ylabel='True Class'>"
      ]
     },
     "execution_count": 34,
     "metadata": {},
     "output_type": "execute_result"
    }
   ],
   "source": [
    "rfcm = ConfusionMatrix(rfc_grid_search, classes=['GALAXY','STAR','QSO'], cmap='GnBu')\n",
    "\n",
    "rfcm.fit(xtrain_smote, ytrain_smote)\n",
    "rfcm.score(xtest, ytest)\n",
    "rfcm.show()"
   ]
  },
  {
   "cell_type": "markdown",
   "id": "eee8911b",
   "metadata": {
    "papermill": {
     "duration": 0.022091,
     "end_time": "2023-01-18T18:36:40.119369",
     "exception": false,
     "start_time": "2023-01-18T18:36:40.097278",
     "status": "completed"
    },
    "tags": []
   },
   "source": [
    "# K-Nearest Neighbor (KNN)"
   ]
  },
  {
   "cell_type": "code",
   "execution_count": 35,
   "id": "5a292af4",
   "metadata": {
    "execution": {
     "iopub.execute_input": "2023-01-18T18:36:40.168210Z",
     "iopub.status.busy": "2023-01-18T18:36:40.167290Z",
     "iopub.status.idle": "2023-01-18T18:38:55.760704Z",
     "shell.execute_reply": "2023-01-18T18:38:55.759134Z"
    },
    "papermill": {
     "duration": 135.641442,
     "end_time": "2023-01-18T18:38:55.785534",
     "exception": false,
     "start_time": "2023-01-18T18:36:40.144092",
     "status": "completed"
    },
    "tags": []
   },
   "outputs": [
    {
     "name": "stdout",
     "output_type": "stream",
     "text": [
      "Fitting 10 folds for each of 2 candidates, totalling 20 fits\n",
      "CPU times: user 527 ms, sys: 48 ms, total: 575 ms\n",
      "Wall time: 2min 15s\n"
     ]
    }
   ],
   "source": [
    "%%time\n",
    "knn = KNeighborsClassifier()\n",
    "# train grid search\n",
    "params = {'n_neighbors':[5,10]} \n",
    "knn_grid_search = GridSearchCV(estimator = knn, param_grid = params, cv = kfold, n_jobs=-1, verbose=2, return_train_score=True)\n",
    "start = time.time()\n",
    "clf=knn_grid_search.fit(xtrain_smote, ytrain_smote)\n",
    "end = time.time()"
   ]
  },
  {
   "cell_type": "code",
   "execution_count": 36,
   "id": "6a53adb7",
   "metadata": {
    "execution": {
     "iopub.execute_input": "2023-01-18T18:38:55.831735Z",
     "iopub.status.busy": "2023-01-18T18:38:55.831266Z",
     "iopub.status.idle": "2023-01-18T18:38:55.840067Z",
     "shell.execute_reply": "2023-01-18T18:38:55.838729Z"
    },
    "papermill": {
     "duration": 0.037183,
     "end_time": "2023-01-18T18:38:55.844478",
     "exception": false,
     "start_time": "2023-01-18T18:38:55.807295",
     "status": "completed"
    },
    "tags": []
   },
   "outputs": [
    {
     "name": "stdout",
     "output_type": "stream",
     "text": [
      "[INFO] grid search took 135.58 seconds\n",
      "Best Score: 0.9612\n",
      "Best Params: {'n_neighbors': 5}\n",
      "Best Estimator: \n",
      "KNeighborsClassifier()\n",
      "GridSearchCV(cv=StratifiedKFold(n_splits=10, random_state=42, shuffle=True),\n",
      "             estimator=KNeighborsClassifier(), n_jobs=-1,\n",
      "             param_grid={'n_neighbors': [5, 10]}, return_train_score=True,\n",
      "             verbose=2)\n"
     ]
    }
   ],
   "source": [
    "print(\"[INFO] grid search took {:.2f} seconds\".format(end - start))\n",
    "print('Best Score: %.4f' % (knn_grid_search.best_score_))\n",
    "print('Best Params: %s' % (knn_grid_search.best_params_))\n",
    "print('Best Estimator: ') \n",
    "print(knn_grid_search.best_estimator_)\n",
    "print(clf)"
   ]
  },
  {
   "cell_type": "code",
   "execution_count": 37,
   "id": "1e5f7336",
   "metadata": {
    "execution": {
     "iopub.execute_input": "2023-01-18T18:38:55.891871Z",
     "iopub.status.busy": "2023-01-18T18:38:55.891415Z",
     "iopub.status.idle": "2023-01-18T18:39:04.842664Z",
     "shell.execute_reply": "2023-01-18T18:39:04.841056Z"
    },
    "papermill": {
     "duration": 8.979132,
     "end_time": "2023-01-18T18:39:04.845888",
     "exception": false,
     "start_time": "2023-01-18T18:38:55.866756",
     "status": "completed"
    },
    "tags": []
   },
   "outputs": [
    {
     "name": "stdout",
     "output_type": "stream",
     "text": [
      "Test Accuracy : 0.9365\n",
      "Test KNN Accuracy :  93.65%\n"
     ]
    }
   ],
   "source": [
    "ypredicted=knn_grid_search.predict(xtest)\n",
    "score = clf.score(xtest, ytest)  \n",
    "knn_score = np.mean(score)\n",
    "print('Test Accuracy : %.4f' % (knn_score))\n",
    "print('Test KNN Accuracy : ' + \" {:.2f}%\".format(np.mean(score) * 100))"
   ]
  },
  {
   "cell_type": "code",
   "execution_count": 38,
   "id": "26481c84",
   "metadata": {
    "_kg_hide-input": false,
    "execution": {
     "iopub.execute_input": "2023-01-18T18:39:04.892674Z",
     "iopub.status.busy": "2023-01-18T18:39:04.892209Z",
     "iopub.status.idle": "2023-01-18T18:39:04.961212Z",
     "shell.execute_reply": "2023-01-18T18:39:04.959871Z"
    },
    "papermill": {
     "duration": 0.095991,
     "end_time": "2023-01-18T18:39:04.964572",
     "exception": false,
     "start_time": "2023-01-18T18:39:04.868581",
     "status": "completed"
    },
    "tags": []
   },
   "outputs": [
    {
     "name": "stdout",
     "output_type": "stream",
     "text": [
      "              precision    recall  f1-score   support\n",
      "\n",
      "           0       0.96      0.93      0.95     19617\n",
      "           1       0.90      0.92      0.91      6257\n",
      "           2       0.90      0.95      0.93      7126\n",
      "\n",
      "    accuracy                           0.94     33000\n",
      "   macro avg       0.92      0.94      0.93     33000\n",
      "weighted avg       0.94      0.94      0.94     33000\n",
      "\n",
      "KNN model accuracy_score on test: 0.9365151515151515\n"
     ]
    }
   ],
   "source": [
    "print(classification_report(ytest,ypredicted))\n",
    "print(\"KNN model accuracy_score on test:\", accuracy_score(ytest, ypredicted))"
   ]
  },
  {
   "cell_type": "code",
   "execution_count": 39,
   "id": "07da245f",
   "metadata": {
    "execution": {
     "iopub.execute_input": "2023-01-18T18:39:05.012285Z",
     "iopub.status.busy": "2023-01-18T18:39:05.011780Z",
     "iopub.status.idle": "2023-01-18T18:39:05.367374Z",
     "shell.execute_reply": "2023-01-18T18:39:05.365846Z"
    },
    "papermill": {
     "duration": 0.382913,
     "end_time": "2023-01-18T18:39:05.370143",
     "exception": false,
     "start_time": "2023-01-18T18:39:04.987230",
     "status": "completed"
    },
    "tags": []
   },
   "outputs": [
    {
     "name": "stdout",
     "output_type": "stream",
     "text": [
      "AxesSubplot(0.125,0.125;0.62x0.755)\n"
     ]
    },
    {
     "data": {
      "image/png": "[encoded data removed]",
      "text/plain": [
       "<Figure size 576x396 with 2 Axes>"
      ]
     },
     "metadata": {},
     "output_type": "display_data"
    }
   ],
   "source": [
    "cm = confusion_matrix(ytest, ypredicted)\n",
    "cm\n",
    "print(sb.heatmap(cm,annot=True,fmt=\".2f\"))"
   ]
  },
  {
   "cell_type": "code",
   "execution_count": 40,
   "id": "f80b3426",
   "metadata": {
    "execution": {
     "iopub.execute_input": "2023-01-18T18:39:05.418769Z",
     "iopub.status.busy": "2023-01-18T18:39:05.418308Z",
     "iopub.status.idle": "2023-01-18T18:39:14.588179Z",
     "shell.execute_reply": "2023-01-18T18:39:14.586232Z"
    },
    "papermill": {
     "duration": 9.200816,
     "end_time": "2023-01-18T18:39:14.593702",
     "exception": false,
     "start_time": "2023-01-18T18:39:05.392886",
     "status": "completed"
    },
    "tags": []
   },
   "outputs": [
    {
     "data": {
      "image/png": "[encoded data removed]",
      "text/plain": [
       "<Figure size 576x396 with 1 Axes>"
      ]
     },
     "metadata": {},
     "output_type": "display_data"
    },
    {
     "data": {
      "text/plain": [
       "<AxesSubplot:title={'center':'GridSearchCV Confusion Matrix'}, xlabel='Predicted Class', ylabel='True Class'>"
      ]
     },
     "execution_count": 40,
     "metadata": {},
     "output_type": "execute_result"
    }
   ],
   "source": [
    "knncm = ConfusionMatrix(knn_grid_search, classes=['GALAXY','STAR','QSO'], cmap='GnBu')\n",
    "\n",
    "knncm.fit(xtrain_smote, ytrain_smote)\n",
    "knncm.score(xtest, ytest)\n",
    "knncm.show()"
   ]
  },
  {
   "cell_type": "markdown",
   "id": "4e991ad6",
   "metadata": {
    "papermill": {
     "duration": 0.02441,
     "end_time": "2023-01-18T18:39:14.646172",
     "exception": false,
     "start_time": "2023-01-18T18:39:14.621762",
     "status": "completed"
    },
    "tags": []
   },
   "source": [
    "# XGBoost"
   ]
  },
  {
   "cell_type": "code",
   "execution_count": 41,
   "id": "6ebb543e",
   "metadata": {
    "execution": {
     "iopub.execute_input": "2023-01-18T18:39:14.698707Z",
     "iopub.status.busy": "2023-01-18T18:39:14.697379Z",
     "iopub.status.idle": "2023-01-18T19:22:09.487416Z",
     "shell.execute_reply": "2023-01-18T19:22:09.486390Z"
    },
    "papermill": {
     "duration": 2574.845887,
     "end_time": "2023-01-18T19:22:09.516667",
     "exception": false,
     "start_time": "2023-01-18T18:39:14.670780",
     "status": "completed"
    },
    "tags": []
   },
   "outputs": [
    {
     "name": "stdout",
     "output_type": "stream",
     "text": [
      "CPU times: user 6min 34s, sys: 779 ms, total: 6min 34s\n",
      "Wall time: 42min 54s\n"
     ]
    }
   ],
   "source": [
    "%%time\n",
    "xgb = xgboost.XGBClassifier()\n",
    "# train grid search\n",
    "params = {'max_depth':[6,10], 'n_estimators':[10,100,150]}\n",
    "xgb_grid_search = GridSearchCV(estimator = xgb, param_grid = params, cv = kfold, n_jobs=-1)\n",
    "start = time.time()\n",
    "clf=xgb_grid_search.fit(xtrain_smote, ytrain_smote)\n",
    "end = time.time()"
   ]
  },
  {
   "cell_type": "code",
   "execution_count": 42,
   "id": "687c9480",
   "metadata": {
    "execution": {
     "iopub.execute_input": "2023-01-18T19:22:09.566857Z",
     "iopub.status.busy": "2023-01-18T19:22:09.566365Z",
     "iopub.status.idle": "2023-01-18T19:22:09.583928Z",
     "shell.execute_reply": "2023-01-18T19:22:09.581796Z"
    },
    "papermill": {
     "duration": 0.052856,
     "end_time": "2023-01-18T19:22:09.594503",
     "exception": false,
     "start_time": "2023-01-18T19:22:09.541647",
     "status": "completed"
    },
    "tags": []
   },
   "outputs": [
    {
     "name": "stdout",
     "output_type": "stream",
     "text": [
      "[INFO] grid search took 2574.78 seconds\n",
      "Best Score: 0.9851\n",
      "Best Params: {'max_depth': 10, 'n_estimators': 150}\n",
      "Best Estimator: \n",
      "XGBClassifier(base_score=0.5, booster='gbtree', callbacks=None,\n",
      "              colsample_bylevel=1, colsample_bynode=1, colsample_bytree=1,\n",
      "              early_stopping_rounds=None, enable_categorical=False,\n",
      "              eval_metric=None, gamma=0, gpu_id=-1, grow_policy='depthwise',\n",
      "              importance_type=None, interaction_constraints='',\n",
      "              learning_rate=0.300000012, max_bin=256, max_cat_to_onehot=4,\n",
      "              max_delta_step=0, max_depth=10, max_leaves=0, min_child_weight=1,\n",
      "              missing=nan, monotone_constraints='()', n_estimators=150,\n",
      "              n_jobs=0, num_parallel_tree=1, objective='multi:softprob',\n",
      "              predictor='auto', random_state=0, reg_alpha=0, ...)\n",
      "GridSearchCV(cv=StratifiedKFold(n_splits=10, random_state=42, shuffle=True),\n",
      "             estimator=XGBClassifier(base_score=None, booster=None,\n",
      "                                     callbacks=None, colsample_bylevel=None,\n",
      "                                     colsample_bynode=None,\n",
      "                                     colsample_bytree=None,\n",
      "                                     early_stopping_rounds=None,\n",
      "                                     enable_categorical=False, eval_metric=None,\n",
      "                                     gamma=None, gpu_id=None, grow_policy=None,\n",
      "                                     importance_type=None,\n",
      "                                     interaction...\n",
      "                                     learning_rate=None, max_bin=None,\n",
      "                                     max_cat_to_onehot=None,\n",
      "                                     max_delta_step=None, max_depth=None,\n",
      "                                     max_leaves=None, min_child_weight=None,\n",
      "                                     missing=nan, monotone_constraints=None,\n",
      "                                     n_estimators=100, n_jobs=None,\n",
      "                                     num_parallel_tree=None, predictor=None,\n",
      "                                     random_state=None, reg_alpha=None,\n",
      "                                     reg_lambda=None, ...),\n",
      "             n_jobs=-1,\n",
      "             param_grid={'max_depth': [6, 10], 'n_estimators': [10, 100, 150]})\n"
     ]
    }
   ],
   "source": [
    "print(\"[INFO] grid search took {:.2f} seconds\".format(end - start))\n",
    "print('Best Score: %.4f' % (xgb_grid_search.best_score_))\n",
    "print('Best Params: %s' % (xgb_grid_search.best_params_))\n",
    "print('Best Estimator: ') \n",
    "print(xgb_grid_search.best_estimator_)\n",
    "print(clf)"
   ]
  },
  {
   "cell_type": "code",
   "execution_count": 43,
   "id": "fe5b4254",
   "metadata": {
    "execution": {
     "iopub.execute_input": "2023-01-18T19:22:09.643870Z",
     "iopub.status.busy": "2023-01-18T19:22:09.642973Z",
     "iopub.status.idle": "2023-01-18T19:22:10.110839Z",
     "shell.execute_reply": "2023-01-18T19:22:10.109356Z"
    },
    "papermill": {
     "duration": 0.496386,
     "end_time": "2023-01-18T19:22:10.114585",
     "exception": false,
     "start_time": "2023-01-18T19:22:09.618199",
     "status": "completed"
    },
    "tags": []
   },
   "outputs": [
    {
     "name": "stdout",
     "output_type": "stream",
     "text": [
      "Accuracy : 0.9793\n",
      "Test Accuracy : 0.9793\n",
      "Test XGBoost Accuracy :  97.93%\n"
     ]
    }
   ],
   "source": [
    "ypredicted=xgb_grid_search.predict(xtest)\n",
    "score = clf.score(xtest, ytest)  \n",
    "print('Accuracy : %.4f' % (score))\n",
    "xgb_score = np.mean(score)\n",
    "print('Test Accuracy : %.4f' % (xgb_score))\n",
    "print('Test XGBoost Accuracy : ' + \" {:.2f}%\".format(np.mean(score) * 100))"
   ]
  },
  {
   "cell_type": "code",
   "execution_count": 44,
   "id": "4f8678b8",
   "metadata": {
    "execution": {
     "iopub.execute_input": "2023-01-18T19:22:10.172759Z",
     "iopub.status.busy": "2023-01-18T19:22:10.171271Z",
     "iopub.status.idle": "2023-01-18T19:22:10.245620Z",
     "shell.execute_reply": "2023-01-18T19:22:10.243826Z"
    },
    "papermill": {
     "duration": 0.105181,
     "end_time": "2023-01-18T19:22:10.248485",
     "exception": false,
     "start_time": "2023-01-18T19:22:10.143304",
     "status": "completed"
    },
    "tags": []
   },
   "outputs": [
    {
     "name": "stdout",
     "output_type": "stream",
     "text": [
      "              precision    recall  f1-score   support\n",
      "\n",
      "           0       0.98      0.98      0.98     19617\n",
      "           1       0.95      0.95      0.95      6257\n",
      "           2       1.00      1.00      1.00      7126\n",
      "\n",
      "    accuracy                           0.98     33000\n",
      "   macro avg       0.98      0.98      0.98     33000\n",
      "weighted avg       0.98      0.98      0.98     33000\n",
      "\n",
      "XGBoost accuracy_score  on test: 0.9792727272727273\n"
     ]
    }
   ],
   "source": [
    "print(classification_report(ytest, ypredicted))\n",
    "print(\"XGBoost accuracy_score  on test:\", accuracy_score(ytest, ypredicted))"
   ]
  },
  {
   "cell_type": "code",
   "execution_count": 45,
   "id": "3629af95",
   "metadata": {
    "execution": {
     "iopub.execute_input": "2023-01-18T19:22:10.305047Z",
     "iopub.status.busy": "2023-01-18T19:22:10.304184Z",
     "iopub.status.idle": "2023-01-18T19:22:10.682252Z",
     "shell.execute_reply": "2023-01-18T19:22:10.680891Z"
    },
    "papermill": {
     "duration": 0.408806,
     "end_time": "2023-01-18T19:22:10.685077",
     "exception": false,
     "start_time": "2023-01-18T19:22:10.276271",
     "status": "completed"
    },
    "tags": []
   },
   "outputs": [
    {
     "name": "stdout",
     "output_type": "stream",
     "text": [
      "AxesSubplot(0.125,0.125;0.62x0.755)\n"
     ]
    },
    {
     "data": {
      "image/png": "[encoded data removed]",
      "text/plain": [
       "<Figure size 576x396 with 2 Axes>"
      ]
     },
     "metadata": {},
     "output_type": "display_data"
    }
   ],
   "source": [
    "cm = confusion_matrix(ytest, ypredicted)\n",
    "cm\n",
    "print(sb.heatmap(cm,annot=True,fmt=\".2f\"))"
   ]
  },
  {
   "cell_type": "code",
   "execution_count": 46,
   "id": "e8492dd6",
   "metadata": {
    "execution": {
     "iopub.execute_input": "2023-01-18T19:22:10.739720Z",
     "iopub.status.busy": "2023-01-18T19:22:10.738487Z",
     "iopub.status.idle": "2023-01-18T19:22:11.494482Z",
     "shell.execute_reply": "2023-01-18T19:22:11.493067Z"
    },
    "papermill": {
     "duration": 0.78527,
     "end_time": "2023-01-18T19:22:11.497318",
     "exception": false,
     "start_time": "2023-01-18T19:22:10.712048",
     "status": "completed"
    },
    "tags": []
   },
   "outputs": [
    {
     "data": {
      "image/png": "[encoded data removed]",
      "text/plain": [
       "<Figure size 576x396 with 1 Axes>"
      ]
     },
     "metadata": {},
     "output_type": "display_data"
    },
    {
     "data": {
      "text/plain": [
       "<AxesSubplot:title={'center':'GridSearchCV Confusion Matrix'}, xlabel='Predicted Class', ylabel='True Class'>"
      ]
     },
     "execution_count": 46,
     "metadata": {},
     "output_type": "execute_result"
    }
   ],
   "source": [
    "xgbcm = ConfusionMatrix(xgb_grid_search, classes=['GALAXY','STAR','QSO'], cmap='GnBu')\n",
    "\n",
    "xgbcm.fit(xtrain_smote, ytrain_smote)\n",
    "xgbcm.score(xtest, ytest)\n",
    "xgbcm.show()"
   ]
  },
  {
   "cell_type": "markdown",
   "id": "82775e17",
   "metadata": {
    "papermill": {
     "duration": 0.024698,
     "end_time": "2023-01-18T19:22:11.548060",
     "exception": false,
     "start_time": "2023-01-18T19:22:11.523362",
     "status": "completed"
    },
    "tags": []
   },
   "source": [
    "# BaggingClassifier"
   ]
  },
  {
   "cell_type": "code",
   "execution_count": 47,
   "id": "d49f4b28",
   "metadata": {
    "execution": {
     "iopub.execute_input": "2023-01-18T19:22:11.600728Z",
     "iopub.status.busy": "2023-01-18T19:22:11.599566Z",
     "iopub.status.idle": "2023-01-18T19:52:56.404573Z",
     "shell.execute_reply": "2023-01-18T19:52:56.402929Z"
    },
    "papermill": {
     "duration": 1844.959971,
     "end_time": "2023-01-18T19:52:56.533193",
     "exception": false,
     "start_time": "2023-01-18T19:22:11.573222",
     "status": "completed"
    },
    "tags": []
   },
   "outputs": [
    {
     "name": "stdout",
     "output_type": "stream",
     "text": [
      "[CV] END ......................................n_neighbors=5; total time=   2.9s\n",
      "[CV] END ......................................n_neighbors=5; total time=   3.1s\n",
      "[CV] END .....................................n_neighbors=10; total time=   3.6s\n",
      "[CV] END .....................................n_neighbors=10; total time=   3.5s\n",
      "[CV] END .....................................n_neighbors=10; total time=   3.7s\n",
      "[CV] END ......................................n_neighbors=5; total time=   2.9s\n",
      "[CV] END ......................................n_neighbors=5; total time=   2.8s\n",
      "[CV] END ......................................n_neighbors=5; total time=   2.9s\n",
      "[CV] END .....................................n_neighbors=10; total time=   3.6s\n",
      "[CV] END .....................................n_neighbors=10; total time=   4.1s\n",
      "CPU times: user 4min 29s, sys: 203 ms, total: 4min 29s\n",
      "Wall time: 30min 44s\n"
     ]
    }
   ],
   "source": [
    "%%time\n",
    "bag = BaggingClassifier(random_state = 42)\n",
    "# train grid search\n",
    "params = {'n_estimators':[10,100,150]}\n",
    "bag_grid_search = GridSearchCV(estimator = bag, param_grid = params, cv = kfold, n_jobs=-1)\n",
    "start = time.time()\n",
    "clf=bag_grid_search.fit(xtrain_smote, ytrain_smote)\n",
    "end = time.time()"
   ]
  },
  {
   "cell_type": "code",
   "execution_count": 48,
   "id": "db204a12",
   "metadata": {
    "execution": {
     "iopub.execute_input": "2023-01-18T19:52:56.590735Z",
     "iopub.status.busy": "2023-01-18T19:52:56.589881Z",
     "iopub.status.idle": "2023-01-18T19:52:56.599809Z",
     "shell.execute_reply": "2023-01-18T19:52:56.598108Z"
    },
    "papermill": {
     "duration": 0.041833,
     "end_time": "2023-01-18T19:52:56.602763",
     "exception": false,
     "start_time": "2023-01-18T19:52:56.560930",
     "status": "completed"
    },
    "tags": []
   },
   "outputs": [
    {
     "name": "stdout",
     "output_type": "stream",
     "text": [
      "[INFO] grid search took 1844.80 seconds\n",
      "Best Score: 0.9821\n",
      "Best Params: {'n_estimators': 150}\n",
      "Best Estimator: \n",
      "BaggingClassifier(n_estimators=150, random_state=42)\n",
      "GridSearchCV(cv=StratifiedKFold(n_splits=10, random_state=42, shuffle=True),\n",
      "             estimator=BaggingClassifier(random_state=42), n_jobs=-1,\n",
      "             param_grid={'n_estimators': [10, 100, 150]})\n"
     ]
    }
   ],
   "source": [
    "print(\"[INFO] grid search took {:.2f} seconds\".format(end - start))\n",
    "print('Best Score: %.4f' % (bag_grid_search.best_score_))\n",
    "print('Best Params: %s' % (bag_grid_search.best_params_))\n",
    "print('Best Estimator: ') \n",
    "print(bag_grid_search.best_estimator_)\n",
    "print(clf)"
   ]
  },
  {
   "cell_type": "code",
   "execution_count": 49,
   "id": "d04d7337",
   "metadata": {
    "execution": {
     "iopub.execute_input": "2023-01-18T19:52:56.658474Z",
     "iopub.status.busy": "2023-01-18T19:52:56.657886Z",
     "iopub.status.idle": "2023-01-18T19:52:58.915324Z",
     "shell.execute_reply": "2023-01-18T19:52:58.913595Z"
    },
    "papermill": {
     "duration": 2.289647,
     "end_time": "2023-01-18T19:52:58.919430",
     "exception": false,
     "start_time": "2023-01-18T19:52:56.629783",
     "status": "completed"
    },
    "tags": []
   },
   "outputs": [
    {
     "name": "stdout",
     "output_type": "stream",
     "text": [
      "Accuracy : 0.9780\n",
      "Test Accuracy : 0.9780\n",
      "Test Bagging Accuracy :  97.80%\n"
     ]
    }
   ],
   "source": [
    "ypredicted=bag_grid_search.predict(xtest)\n",
    "score = clf.score(xtest, ytest)  \n",
    "print('Accuracy : %.4f' % (score))\n",
    "bag_score = np.mean(score)\n",
    "print('Test Accuracy : %.4f' % (bag_score))\n",
    "print('Test Bagging Accuracy : ' + \" {:.2f}%\".format(np.mean(score) * 100))"
   ]
  },
  {
   "cell_type": "code",
   "execution_count": 50,
   "id": "c2e68135",
   "metadata": {
    "execution": {
     "iopub.execute_input": "2023-01-18T19:52:58.974916Z",
     "iopub.status.busy": "2023-01-18T19:52:58.974461Z",
     "iopub.status.idle": "2023-01-18T19:52:59.042532Z",
     "shell.execute_reply": "2023-01-18T19:52:59.041295Z"
    },
    "papermill": {
     "duration": 0.099639,
     "end_time": "2023-01-18T19:52:59.045847",
     "exception": false,
     "start_time": "2023-01-18T19:52:58.946208",
     "status": "completed"
    },
    "tags": []
   },
   "outputs": [
    {
     "name": "stdout",
     "output_type": "stream",
     "text": [
      "              precision    recall  f1-score   support\n",
      "\n",
      "           0       0.98      0.98      0.98     19617\n",
      "           1       0.94      0.95      0.95      6257\n",
      "           2       1.00      1.00      1.00      7126\n",
      "\n",
      "    accuracy                           0.98     33000\n",
      "   macro avg       0.97      0.98      0.97     33000\n",
      "weighted avg       0.98      0.98      0.98     33000\n",
      "\n",
      "Bagging accuracy_score  on test: 0.978\n"
     ]
    }
   ],
   "source": [
    "print(classification_report(ytest, ypredicted))\n",
    "print(\"Bagging accuracy_score  on test:\", accuracy_score(ytest, ypredicted))"
   ]
  },
  {
   "cell_type": "code",
   "execution_count": 51,
   "id": "08cc7b0e",
   "metadata": {
    "execution": {
     "iopub.execute_input": "2023-01-18T19:52:59.103508Z",
     "iopub.status.busy": "2023-01-18T19:52:59.102684Z",
     "iopub.status.idle": "2023-01-18T19:52:59.411080Z",
     "shell.execute_reply": "2023-01-18T19:52:59.409323Z"
    },
    "papermill": {
     "duration": 0.339695,
     "end_time": "2023-01-18T19:52:59.414189",
     "exception": false,
     "start_time": "2023-01-18T19:52:59.074494",
     "status": "completed"
    },
    "tags": []
   },
   "outputs": [
    {
     "name": "stdout",
     "output_type": "stream",
     "text": [
      "AxesSubplot(0.125,0.125;0.62x0.755)\n"
     ]
    },
    {
     "data": {
      "image/png": "[encoded data removed]",
      "text/plain": [
       "<Figure size 576x396 with 2 Axes>"
      ]
     },
     "metadata": {},
     "output_type": "display_data"
    }
   ],
   "source": [
    "cm = confusion_matrix(ytest, ypredicted)\n",
    "cm\n",
    "print(sb.heatmap(cm,annot=True,fmt=\".2f\"))"
   ]
  },
  {
   "cell_type": "code",
   "execution_count": 52,
   "id": "f3a4ab61",
   "metadata": {
    "execution": {
     "iopub.execute_input": "2023-01-18T19:52:59.473756Z",
     "iopub.status.busy": "2023-01-18T19:52:59.473233Z",
     "iopub.status.idle": "2023-01-18T19:53:01.993767Z",
     "shell.execute_reply": "2023-01-18T19:53:01.992090Z"
    },
    "papermill": {
     "duration": 2.553474,
     "end_time": "2023-01-18T19:53:01.997811",
     "exception": false,
     "start_time": "2023-01-18T19:52:59.444337",
     "status": "completed"
    },
    "tags": []
   },
   "outputs": [
    {
     "data": {
      "image/png": "[encoded data removed]",
      "text/plain": [
       "<Figure size 576x396 with 1 Axes>"
      ]
     },
     "metadata": {},
     "output_type": "display_data"
    },
    {
     "data": {
      "text/plain": [
       "<AxesSubplot:title={'center':'GridSearchCV Confusion Matrix'}, xlabel='Predicted Class', ylabel='True Class'>"
      ]
     },
     "execution_count": 52,
     "metadata": {},
     "output_type": "execute_result"
    }
   ],
   "source": [
    "bagcm = ConfusionMatrix(bag_grid_search, classes=['GALAXY','STAR','QSO'], cmap='GnBu')\n",
    "\n",
    "bagcm.fit(xtrain_smote, ytrain_smote)\n",
    "bagcm.score(xtest, ytest)\n",
    "bagcm.show()"
   ]
  },
  {
   "cell_type": "code",
   "execution_count": 53,
   "id": "6fe54ba4",
   "metadata": {
    "execution": {
     "iopub.execute_input": "2023-01-18T19:53:02.058426Z",
     "iopub.status.busy": "2023-01-18T19:53:02.056235Z",
     "iopub.status.idle": "2023-01-18T19:53:20.975914Z",
     "shell.execute_reply": "2023-01-18T19:53:20.974138Z"
    },
    "papermill": {
     "duration": 18.954793,
     "end_time": "2023-01-18T19:53:20.980725",
     "exception": false,
     "start_time": "2023-01-18T19:53:02.025932",
     "status": "completed"
    },
    "tags": []
   },
   "outputs": [
    {
     "name": "stdout",
     "output_type": "stream",
     "text": [
      "[CV] END ......................................n_neighbors=5; total time=   2.9s\n",
      "[CV] END ......................................n_neighbors=5; total time=   2.9s\n",
      "[CV] END ......................................n_neighbors=5; total time=   2.9s\n",
      "[CV] END .....................................n_neighbors=10; total time=   3.8s\n",
      "[CV] END .....................................n_neighbors=10; total time=   4.0s\n"
     ]
    },
    {
     "data": {
      "image/png": "[encoded data removed]",
      "text/plain": [
       "<Figure size 576x396 with 1 Axes>"
      ]
     },
     "metadata": {},
     "output_type": "display_data"
    },
    {
     "data": {
      "text/plain": [
       "<AxesSubplot:title={'center':'BaggingClassifier Confusion Matrix'}, xlabel='Predicted Class', ylabel='True Class'>"
      ]
     },
     "execution_count": 53,
     "metadata": {},
     "output_type": "execute_result"
    }
   ],
   "source": [
    "bagcm = ConfusionMatrix(bag, classes=['GALAXY','STAR','QSO'], cmap='GnBu')\n",
    "\n",
    "bagcm.fit(xtrain_smote, ytrain_smote)\n",
    "bagcm.score(xtest, ytest)\n",
    "bagcm.show()"
   ]
  },
  {
   "cell_type": "markdown",
   "id": "87f799e5",
   "metadata": {
    "papermill": {
     "duration": 0.028137,
     "end_time": "2023-01-18T19:53:21.074574",
     "exception": false,
     "start_time": "2023-01-18T19:53:21.046437",
     "status": "completed"
    },
    "tags": []
   },
   "source": [
    "# Stacking of KNN+SVM+RF"
   ]
  },
  {
   "cell_type": "markdown",
   "id": "fdfffa0f",
   "metadata": {
    "papermill": {
     "duration": 0.027958,
     "end_time": "2023-01-18T19:53:21.131257",
     "exception": false,
     "start_time": "2023-01-18T19:53:21.103299",
     "status": "completed"
    },
    "tags": []
   },
   "source": [
    "# Voting of KNN+SVM+RF"
   ]
  },
  {
   "cell_type": "code",
   "execution_count": 54,
   "id": "f0ec028a",
   "metadata": {
    "execution": {
     "iopub.execute_input": "2023-01-18T19:53:21.190692Z",
     "iopub.status.busy": "2023-01-18T19:53:21.189229Z",
     "iopub.status.idle": "2023-01-18T20:21:48.539518Z",
     "shell.execute_reply": "2023-01-18T20:21:48.538035Z"
    },
    "papermill": {
     "duration": 1707.411367,
     "end_time": "2023-01-18T20:21:48.571193",
     "exception": false,
     "start_time": "2023-01-18T19:53:21.159826",
     "status": "completed"
    },
    "tags": []
   },
   "outputs": [
    {
     "name": "stdout",
     "output_type": "stream",
     "text": [
      "[CV] END ......................................n_neighbors=5; total time=   3.0s\n",
      "[CV] END ......................................n_neighbors=5; total time=   2.9s\n",
      "[CV] END .....................................n_neighbors=10; total time=   3.5s\n",
      "[CV] END .....................................n_neighbors=10; total time=   3.7s\n",
      "[CV] END .....................................n_neighbors=10; total time=   3.9s\n",
      "CPU times: user 364 ms, sys: 240 ms, total: 605 ms\n",
      "Wall time: 28min 27s\n"
     ]
    }
   ],
   "source": [
    "%%time\n",
    "# create the sub models\n",
    "estimators = []\n",
    "model1 = SVC(kernel='rbf', C=10, gamma=1) \n",
    "# -----?? SVM olacak ama nasıl??\n",
    "estimators.append(('svc', model1))\n",
    "model2 = RandomForestClassifier(n_estimators=100, max_depth=10)\n",
    "estimators.append(('rfc', model2))\n",
    "model3 = KNeighborsClassifier(n_neighbors=5)\n",
    "estimators.append(('knn', model3))\n",
    "# create the ensemble model\n",
    "voting = VotingClassifier(estimators,voting ='hard')\n",
    "start = time.time()\n",
    "results = cross_val_score(voting, xtrain_smote, ytrain_smote, cv=kfold,n_jobs=-1)\n",
    "end = time.time()"
   ]
  },
  {
   "cell_type": "code",
   "execution_count": 55,
   "id": "5797d1ba",
   "metadata": {
    "execution": {
     "iopub.execute_input": "2023-01-18T20:21:48.630914Z",
     "iopub.status.busy": "2023-01-18T20:21:48.629467Z",
     "iopub.status.idle": "2023-01-18T20:21:48.637971Z",
     "shell.execute_reply": "2023-01-18T20:21:48.636621Z"
    },
    "papermill": {
     "duration": 0.04111,
     "end_time": "2023-01-18T20:21:48.641055",
     "exception": false,
     "start_time": "2023-01-18T20:21:48.599945",
     "status": "completed"
    },
    "tags": []
   },
   "outputs": [
    {
     "name": "stdout",
     "output_type": "stream",
     "text": [
      "[0.97589756 0.97681814 0.97614863 0.97573019 0.97514228 0.97522598\n",
      " 0.97254771 0.97874121 0.97397054 0.97455641]\n",
      "Accuracy : 0.9755\n"
     ]
    }
   ],
   "source": [
    "print(results)\n",
    "voting_score = np.mean(results)\n",
    "print('Accuracy : %.4f' % (voting_score))"
   ]
  },
  {
   "cell_type": "code",
   "execution_count": 56,
   "id": "7baddd5c",
   "metadata": {
    "execution": {
     "iopub.execute_input": "2023-01-18T20:21:48.700676Z",
     "iopub.status.busy": "2023-01-18T20:21:48.700223Z",
     "iopub.status.idle": "2023-01-18T21:00:04.738871Z",
     "shell.execute_reply": "2023-01-18T21:00:04.737130Z"
    },
    "papermill": {
     "duration": 2296.101945,
     "end_time": "2023-01-18T21:00:04.771264",
     "exception": false,
     "start_time": "2023-01-18T20:21:48.669319",
     "status": "completed"
    },
    "tags": []
   },
   "outputs": [
    {
     "name": "stdout",
     "output_type": "stream",
     "text": [
      "CPU times: user 9min 5s, sys: 696 ms, total: 9min 6s\n",
      "Wall time: 38min 16s\n"
     ]
    }
   ],
   "source": [
    "%%time\n",
    "# train grid search\n",
    "params = {'svc__C': [10], 'svc__gamma': [1], 'svc__kernel': ['rbf'], 'rfc__n_estimators': [100], 'rfc__max_depth':[10], 'knn__n_neighbors':[5]}\n",
    "vote_grid_search = GridSearchCV(estimator = voting, param_grid = params, cv = kfold, n_jobs=-1)\n",
    "start = time.time()\n",
    "clf=vote_grid_search.fit(xtrain_smote, ytrain_smote)\n",
    "end = time.time()"
   ]
  },
  {
   "cell_type": "code",
   "execution_count": 57,
   "id": "df8ed2a6",
   "metadata": {
    "execution": {
     "iopub.execute_input": "2023-01-18T21:00:04.831837Z",
     "iopub.status.busy": "2023-01-18T21:00:04.831309Z",
     "iopub.status.idle": "2023-01-18T21:00:04.855304Z",
     "shell.execute_reply": "2023-01-18T21:00:04.853934Z"
    },
    "papermill": {
     "duration": 0.058871,
     "end_time": "2023-01-18T21:00:04.859541",
     "exception": false,
     "start_time": "2023-01-18T21:00:04.800670",
     "status": "completed"
    },
    "tags": []
   },
   "outputs": [
    {
     "name": "stdout",
     "output_type": "stream",
     "text": [
      "[INFO] grid search took 2296.03 seconds\n",
      "Best Score: 0.9753\n",
      "Best Params: {'knn__n_neighbors': 5, 'rfc__max_depth': 10, 'rfc__n_estimators': 100, 'svc__C': 10, 'svc__gamma': 1, 'svc__kernel': 'rbf'}\n",
      "Best Estimator: \n",
      "VotingClassifier(estimators=[('svc', SVC(C=10, gamma=1)),\n",
      "                             ('rfc', RandomForestClassifier(max_depth=10)),\n",
      "                             ('knn', KNeighborsClassifier())])\n",
      "GridSearchCV(cv=StratifiedKFold(n_splits=10, random_state=42, shuffle=True),\n",
      "             estimator=VotingClassifier(estimators=[('svc', SVC(C=10, gamma=1)),\n",
      "                                                    ('rfc',\n",
      "                                                     RandomForestClassifier(max_depth=10)),\n",
      "                                                    ('knn',\n",
      "                                                     KNeighborsClassifier())]),\n",
      "             n_jobs=-1,\n",
      "             param_grid={'knn__n_neighbors': [5], 'rfc__max_depth': [10],\n",
      "                         'rfc__n_estimators': [100], 'svc__C': [10],\n",
      "                         'svc__gamma': [1], 'svc__kernel': ['rbf']})\n"
     ]
    }
   ],
   "source": [
    "print(\"[INFO] grid search took {:.2f} seconds\".format(end - start))\n",
    "print('Best Score: %.4f' % (vote_grid_search.best_score_))\n",
    "print('Best Params: %s' % (vote_grid_search.best_params_))\n",
    "print('Best Estimator: ') \n",
    "print(vote_grid_search.best_estimator_)\n",
    "print(clf)"
   ]
  },
  {
   "cell_type": "code",
   "execution_count": 58,
   "id": "4817e0e5",
   "metadata": {
    "execution": {
     "iopub.execute_input": "2023-01-18T21:00:04.919421Z",
     "iopub.status.busy": "2023-01-18T21:00:04.918389Z",
     "iopub.status.idle": "2023-01-18T21:01:08.004195Z",
     "shell.execute_reply": "2023-01-18T21:01:08.002703Z"
    },
    "papermill": {
     "duration": 63.147121,
     "end_time": "2023-01-18T21:01:08.035838",
     "exception": false,
     "start_time": "2023-01-18T21:00:04.888717",
     "status": "completed"
    },
    "tags": []
   },
   "outputs": [
    {
     "name": "stdout",
     "output_type": "stream",
     "text": [
      "Accuracy : 0.9693\n",
      "Accuracy : 0.9693\n",
      "Test Voting Accuracy :  96.93%\n"
     ]
    }
   ],
   "source": [
    "ypredicted_voting = vote_grid_search.predict(xtest)\n",
    "score = clf.score(xtest, ytest)\n",
    "print('Accuracy : %.4f' % (score))\n",
    "voting_score = np.mean(score)\n",
    "print('Accuracy : %.4f' % (voting_score))\n",
    "print('Test Voting Accuracy : ' + \" {:.2f}%\".format(np.mean(score) * 100))"
   ]
  },
  {
   "cell_type": "code",
   "execution_count": 59,
   "id": "3fcd1552",
   "metadata": {
    "execution": {
     "iopub.execute_input": "2023-01-18T21:01:08.095377Z",
     "iopub.status.busy": "2023-01-18T21:01:08.093840Z",
     "iopub.status.idle": "2023-01-18T21:01:08.164607Z",
     "shell.execute_reply": "2023-01-18T21:01:08.162320Z"
    },
    "papermill": {
     "duration": 0.103567,
     "end_time": "2023-01-18T21:01:08.167714",
     "exception": false,
     "start_time": "2023-01-18T21:01:08.064147",
     "status": "completed"
    },
    "tags": []
   },
   "outputs": [
    {
     "name": "stdout",
     "output_type": "stream",
     "text": [
      "              precision    recall  f1-score   support\n",
      "\n",
      "           0       0.98      0.97      0.97     19617\n",
      "           1       0.94      0.94      0.94      6257\n",
      "           2       0.96      1.00      0.98      7126\n",
      "\n",
      "    accuracy                           0.97     33000\n",
      "   macro avg       0.96      0.97      0.97     33000\n",
      "weighted avg       0.97      0.97      0.97     33000\n",
      "\n",
      "Voting accuracy_score  on test: 0.9692727272727273\n"
     ]
    }
   ],
   "source": [
    "print(classification_report(ytest, ypredicted_voting))\n",
    "print(\"Voting accuracy_score  on test:\", accuracy_score(ytest, ypredicted_voting))"
   ]
  },
  {
   "cell_type": "code",
   "execution_count": 60,
   "id": "cd6ad1d3",
   "metadata": {
    "execution": {
     "iopub.execute_input": "2023-01-18T21:01:08.226965Z",
     "iopub.status.busy": "2023-01-18T21:01:08.226473Z",
     "iopub.status.idle": "2023-01-18T21:01:08.587836Z",
     "shell.execute_reply": "2023-01-18T21:01:08.586351Z"
    },
    "papermill": {
     "duration": 0.395295,
     "end_time": "2023-01-18T21:01:08.591128",
     "exception": false,
     "start_time": "2023-01-18T21:01:08.195833",
     "status": "completed"
    },
    "tags": []
   },
   "outputs": [
    {
     "name": "stdout",
     "output_type": "stream",
     "text": [
      "AxesSubplot(0.125,0.125;0.62x0.755)\n"
     ]
    },
    {
     "data": {
      "image/png": "[encoded data removed]",
      "text/plain": [
       "<Figure size 576x396 with 2 Axes>"
      ]
     },
     "metadata": {},
     "output_type": "display_data"
    }
   ],
   "source": [
    "cm = confusion_matrix(ytest, ypredicted_voting)\n",
    "cm\n",
    "print(sb.heatmap(cm,annot=True,fmt=\".2f\"))"
   ]
  },
  {
   "cell_type": "code",
   "execution_count": 61,
   "id": "04dd60b9",
   "metadata": {
    "execution": {
     "iopub.execute_input": "2023-01-18T21:01:08.653635Z",
     "iopub.status.busy": "2023-01-18T21:01:08.653179Z",
     "iopub.status.idle": "2023-01-18T21:10:53.336980Z",
     "shell.execute_reply": "2023-01-18T21:10:53.335141Z"
    },
    "papermill": {
     "duration": 584.760825,
     "end_time": "2023-01-18T21:10:53.382919",
     "exception": false,
     "start_time": "2023-01-18T21:01:08.622094",
     "status": "completed"
    },
    "tags": []
   },
   "outputs": [
    {
     "data": {
      "image/png": "[encoded data removed]",
      "text/plain": [
       "<Figure size 576x396 with 1 Axes>"
      ]
     },
     "metadata": {},
     "output_type": "display_data"
    },
    {
     "name": "stdout",
     "output_type": "stream",
     "text": [
      "CPU times: user 9min 43s, sys: 638 ms, total: 9min 44s\n",
      "Wall time: 9min 44s\n"
     ]
    },
    {
     "data": {
      "text/plain": [
       "<AxesSubplot:title={'center':'VotingClassifier Confusion Matrix'}, xlabel='Predicted Class', ylabel='True Class'>"
      ]
     },
     "execution_count": 61,
     "metadata": {},
     "output_type": "execute_result"
    }
   ],
   "source": [
    "%%time\n",
    "ENSM_cm = ConfusionMatrix(voting, classes=['GALAXY','STAR','QSO'], cmap='YlOrRd')\n",
    "ENSM_cm.fit(xtrain_smote, ytrain_smote)\n",
    "ENSM_cm.score(xtest, ytest)\n",
    "ENSM_cm.show()"
   ]
  },
  {
   "cell_type": "code",
   "execution_count": 62,
   "id": "07592b31",
   "metadata": {
    "execution": {
     "iopub.execute_input": "2023-01-18T21:10:53.455376Z",
     "iopub.status.busy": "2023-01-18T21:10:53.454593Z",
     "iopub.status.idle": "2023-01-18T21:11:57.056166Z",
     "shell.execute_reply": "2023-01-18T21:11:57.054386Z"
    },
    "papermill": {
     "duration": 63.683917,
     "end_time": "2023-01-18T21:11:57.102101",
     "exception": false,
     "start_time": "2023-01-18T21:10:53.418184",
     "status": "completed"
    },
    "tags": []
   },
   "outputs": [
    {
     "data": {
      "image/png": "[encoded data removed]",
      "text/plain": [
       "<Figure size 576x396 with 1 Axes>"
      ]
     },
     "metadata": {},
     "output_type": "display_data"
    },
    {
     "name": "stdout",
     "output_type": "stream",
     "text": [
      "CPU times: user 1min 3s, sys: 198 ms, total: 1min 3s\n",
      "Wall time: 1min 3s\n"
     ]
    },
    {
     "data": {
      "text/plain": [
       "<AxesSubplot:title={'center':'GridSearchCV Confusion Matrix'}, xlabel='Predicted Class', ylabel='True Class'>"
      ]
     },
     "execution_count": 62,
     "metadata": {},
     "output_type": "execute_result"
    }
   ],
   "source": [
    "%%time\n",
    "ENSM_cm = ConfusionMatrix(clf, classes=['GALAXY','STAR','QSO'], cmap='YlOrRd')\n",
    "ENSM_cm.fit(xtrain_smote, ytrain_smote)\n",
    "ENSM_cm.score(xtest, ytest)\n",
    "ENSM_cm.show()"
   ]
  },
  {
   "cell_type": "code",
   "execution_count": 63,
   "id": "0300d828",
   "metadata": {
    "execution": {
     "iopub.execute_input": "2023-01-18T21:11:57.169881Z",
     "iopub.status.busy": "2023-01-18T21:11:57.169045Z",
     "iopub.status.idle": "2023-01-18T21:13:00.306908Z",
     "shell.execute_reply": "2023-01-18T21:13:00.305105Z"
    },
    "papermill": {
     "duration": 63.220869,
     "end_time": "2023-01-18T21:13:00.354975",
     "exception": false,
     "start_time": "2023-01-18T21:11:57.134106",
     "status": "completed"
    },
    "tags": []
   },
   "outputs": [
    {
     "data": {
      "image/png": "[encoded data removed]",
      "text/plain": [
       "<Figure size 576x396 with 1 Axes>"
      ]
     },
     "metadata": {},
     "output_type": "display_data"
    },
    {
     "name": "stdout",
     "output_type": "stream",
     "text": [
      "CPU times: user 1min 3s, sys: 205 ms, total: 1min 3s\n",
      "Wall time: 1min 3s\n"
     ]
    },
    {
     "data": {
      "text/plain": [
       "<AxesSubplot:title={'center':'GridSearchCV Confusion Matrix'}, xlabel='Predicted Class', ylabel='True Class'>"
      ]
     },
     "execution_count": 63,
     "metadata": {},
     "output_type": "execute_result"
    }
   ],
   "source": [
    "%%time\n",
    "ENSM_cm = ConfusionMatrix(vote_grid_search, classes=['GALAXY','STAR','QSO'], cmap='YlOrRd')\n",
    "ENSM_cm.fit(xtrain_smote, ytrain_smote)\n",
    "ENSM_cm.score(xtest, ytest)\n",
    "ENSM_cm.show()"
   ]
  },
  {
   "cell_type": "markdown",
   "id": "6f799a18",
   "metadata": {
    "papermill": {
     "duration": 0.031497,
     "end_time": "2023-01-18T21:13:00.418848",
     "exception": false,
     "start_time": "2023-01-18T21:13:00.387351",
     "status": "completed"
    },
    "tags": []
   },
   "source": [
    "# Models That Will Be Trained With Grid Search Later"
   ]
  },
  {
   "cell_type": "code",
   "execution_count": 64,
   "id": "c940409b",
   "metadata": {
    "execution": {
     "iopub.execute_input": "2023-01-18T21:13:00.489770Z",
     "iopub.status.busy": "2023-01-18T21:13:00.488459Z",
     "iopub.status.idle": "2023-01-18T21:13:19.649536Z",
     "shell.execute_reply": "2023-01-18T21:13:19.647703Z"
    },
    "papermill": {
     "duration": 19.201711,
     "end_time": "2023-01-18T21:13:19.652497",
     "exception": false,
     "start_time": "2023-01-18T21:13:00.450786",
     "status": "completed"
    },
    "tags": []
   },
   "outputs": [
    {
     "name": "stdout",
     "output_type": "stream",
     "text": [
      "Light GradientBoostingClassifier :  97.89%\n",
      "CPU times: user 1min 14s, sys: 646 ms, total: 1min 14s\n",
      "Wall time: 19.1 s\n"
     ]
    }
   ],
   "source": [
    "%%time\n",
    "model = LGBMClassifier()\n",
    "params = {'max_depth':[5,10], 'n_estimators':[10,100,150]} \n",
    "score = cross_val_score(model , x , y ,cv=kfold)\n",
    "print('Light GradientBoostingClassifier : ' + \" {:.2f}%\".format(np.mean(score) * 100))"
   ]
  },
  {
   "cell_type": "code",
   "execution_count": 65,
   "id": "aa2eaade",
   "metadata": {
    "execution": {
     "iopub.execute_input": "2023-01-18T21:13:19.721332Z",
     "iopub.status.busy": "2023-01-18T21:13:19.720800Z",
     "iopub.status.idle": "2023-01-18T21:18:28.468194Z",
     "shell.execute_reply": "2023-01-18T21:18:28.466926Z"
    },
    "papermill": {
     "duration": 308.818143,
     "end_time": "2023-01-18T21:18:28.504496",
     "exception": false,
     "start_time": "2023-01-18T21:13:19.686353",
     "status": "completed"
    },
    "tags": []
   },
   "outputs": [
    {
     "name": "stdout",
     "output_type": "stream",
     "text": [
      "CatBoostClassifier :  97.89%\n",
      "CPU times: user 18min 34s, sys: 32.1 s, total: 19min 6s\n",
      "Wall time: 5min 8s\n"
     ]
    }
   ],
   "source": [
    "%%time\n",
    "model = CatBoostClassifier(verbose  = 0)\n",
    "score = cross_val_score(model, x, y, cv = kfold)\n",
    "print('CatBoostClassifier : ' + \" {:.2f}%\".format(np.mean(score) * 100))"
   ]
  },
  {
   "cell_type": "markdown",
   "id": "74a12d73",
   "metadata": {
    "papermill": {
     "duration": 0.033984,
     "end_time": "2023-01-18T21:18:28.572288",
     "exception": false,
     "start_time": "2023-01-18T21:18:28.538304",
     "status": "completed"
    },
    "tags": []
   },
   "source": [
    "# FURTHER WORK\n",
    "* Use cross_validate function with grid search, implement nested cross validation\n",
    "* Use cross validation at last step to compare different algorithms. (So you need to use pipeline to do that.) \n",
    "* Use pipeline\n",
    "* Fully implement models in the 'Models That Will Be Trained With Grid Search Later' section with GridSearchCV. https://www.kaggle.com/code/sfktrkl/titanic-hyperparameter-tuning-gridsearchcv?scriptVersionId=82294857&cellId=69 \n",
    "* Learning curve"
   ]
  }
 ],
 "metadata": {
  "kernelspec": {
   "display_name": "Python 3",
   "language": "python",
   "name": "python3"
  },
  "language_info": {
   "codemirror_mode": {
    "name": "ipython",
    "version": 3
   },
   "file_extension": ".py",
   "mimetype": "text/x-python",
   "name": "python",
   "nbconvert_exporter": "python",
   "pygments_lexer": "ipython3",
   "version": "3.7.12"
  },
  "papermill": {
   "default_parameters": {},
   "duration": 14567.028826,
   "end_time": "2023-01-18T21:18:31.258998",
   "environment_variables": {},
   "exception": null,
   "input_path": "__notebook__.ipynb",
   "output_path": "__notebook__.ipynb",
   "parameters": {},
   "start_time": "2023-01-18T17:15:44.230172",
   "version": "2.3.4"
  }
 },
 "nbformat": 4,
 "nbformat_minor": 5
}
